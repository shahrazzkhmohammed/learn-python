{
 "metadata": {
  "name": "",
  "signature": "sha256:10166f35244296e0938f838198e9ba983e6582e5c0c32a40c346627e348899f7"
 },
 "nbformat": 3,
 "nbformat_minor": 0,
 "worksheets": [
  {
   "cells": [
    {
     "cell_type": "markdown",
     "metadata": {},
     "source": [
      "# List/Dict/Set Comprehension\n",
      "\n",
      "K\u00f3d tohoto typu:\n",
      "\n",
      "~~~\n",
      "vystup = []\n",
      "for n\u011bco in <kde_to_beru>:\n",
      "    vystup.append(<co_chci>)\n",
      "~~~\n",
      "\n",
      "Lze \u010dasto p\u0159ehledn\u011bji ps\u00e1t jako:\n",
      "\n",
      "~~~\n",
      "vystup = [<co_chci> for n\u011bco in <kde_to_beru>]\n",
      "~~~\n",
      "\n",
      "P\u016fvod je v matematick\u00e9m z\u00e1pisu mno\u017ein:\n",
      "\n",
      "$\\{ x^2 \\;|\\; x \\in A \\} = $ `{x**2 for x in A}`\n",
      "\n",
      "Pro\u010d to pou\u017e\u00edvat?\n",
      "\n",
      "- oby\u010dejn\u00fd for-cyklus je mocn\u00fd n\u00e1stroj, m\u016f\u017ee d\u011blat r\u016fzn\u00e9 z\u00e1ludnosti, nap\u0159. z\u00e1pis do v\u00edce prom\u011bnn\u00fdch, `break` apod.\n",
      "- pokud chceme jen jednodu\u0161e p\u0159ev\u00e9st nebo filtovat data, v\u00fd\u0161e uveden\u00fd z\u00e1pis je krat\u0161\u00ed a p\u0159ehledn\u011bj\u0161\u00ed\n",
      "\n",
      "Kdy to nepou\u017e\u00edvat?\n",
      "\n",
      "- pokud by byl z\u00e1pis moc slo\u017eit\u00fd, dlouh\u00fd (max. tak dva \u0159\u00e1dky)\n",
      "- pokud je pot\u0159eba uvnit\u0159 cyklu chytat v\u00fdjimky (try...except)\n",
      "- pokud je \u00fa\u010delem cyklu n\u011bjak\u00fd \"vedlej\u0161\u00ed efekt\" (z\u00e1pis do souboru apod.), nikoliv transformace dat\n",
      "\n",
      "Jak\u00e1 je p\u0159esn\u00e1 syntaxe?\n",
      "\n",
      "~~~\n",
      "[<co_chci> for n\u011bco in <kde to beru>]\n",
      "[<co_chci> for n\u011bco in <kde to beru> if <podm\u00ednka>]\n",
      "\n",
      "{<co_chci> for n\u011bco in <kde to beru>}\n",
      "{<co_chci> for n\u011bco in <kde to beru> if <podm\u00ednka>}\n",
      "\n",
      "{<kl\u00ed\u010d>: <hodnota> for n\u011bco in <kde to beru>}\n",
      "{<kl\u00ed\u010d>: <hodnota> for n\u011bco in <kde to beru> if <podm\u00ednka>}\n",
      "~~~"
     ]
    },
    {
     "cell_type": "code",
     "collapsed": false,
     "input": [
      "import re\n",
      "\n",
      "TEXT = \"\"\"\n",
      "England is a country. It is the largest of the four countries which make up the United Kingdom.\n",
      "Over 53 million people live in England. England is bordered by Wales and Scotland,\n",
      "which are both also on the island of Great Britain. The capital city of England is London,\n",
      "which is also the largest city in England. Birmingham, Leeds and Manchester are also large cities in England.\n",
      "\n",
      "The English flag is white, with a red cross. This cross is the cross of Saint George,\n",
      "who is the patron saint of England. Some other symbols used for England are a red rose and three lions.\n",
      "\"\"\"\n",
      "\n",
      "words = re.findall(r\"\\w+\", TEXT)\n",
      "words[:10]"
     ],
     "language": "python",
     "metadata": {},
     "outputs": [
      {
       "metadata": {},
       "output_type": "pyout",
       "prompt_number": 15,
       "text": [
        "['England', 'is', 'a', 'country', 'It', 'is', 'the', 'largest', 'of', 'the']"
       ]
      }
     ],
     "prompt_number": 15
    },
    {
     "cell_type": "code",
     "collapsed": false,
     "input": [
      "small_words = [w.lower() for w in words]\n",
      "small_words[:10]"
     ],
     "language": "python",
     "metadata": {},
     "outputs": [
      {
       "metadata": {},
       "output_type": "pyout",
       "prompt_number": 22,
       "text": [
        "['england', 'is', 'a', 'country', 'it', 'is', 'the', 'largest', 'of', 'the']"
       ]
      }
     ],
     "prompt_number": 22
    },
    {
     "cell_type": "code",
     "collapsed": false,
     "input": [
      "# word_lengths = []\n",
      "# for w in words:\n",
      "#     word_lengths.append(len(w))\n",
      "\n",
      "word_lengths = [len(w) for w in words]\n",
      "\n",
      "word_lengths[:10]"
     ],
     "language": "python",
     "metadata": {},
     "outputs": [
      {
       "metadata": {},
       "output_type": "pyout",
       "prompt_number": 16,
       "text": [
        "[7, 2, 1, 7, 2, 2, 3, 7, 2, 3]"
       ]
      }
     ],
     "prompt_number": 16
    },
    {
     "cell_type": "code",
     "collapsed": false,
     "input": [
      "def avg(data):\n",
      "    return sum(data) / len(data)\n",
      "\n",
      "avg(word_lengths)"
     ],
     "language": "python",
     "metadata": {},
     "outputs": [
      {
       "metadata": {},
       "output_type": "pyout",
       "prompt_number": 17,
       "text": [
        "4.346153846153846"
       ]
      }
     ],
     "prompt_number": 17
    },
    {
     "cell_type": "markdown",
     "metadata": {},
     "source": [
      "$unique\\_word\\_lengths = \\{\\text{len}\\,(w) \\;|\\; w \\in words\\}$"
     ]
    },
    {
     "cell_type": "code",
     "collapsed": false,
     "input": [
      "unique_word_lengths = {len(w) for w in words}\n",
      "\n",
      "unique_word_lengths"
     ],
     "language": "python",
     "metadata": {},
     "outputs": [
      {
       "metadata": {},
       "output_type": "pyout",
       "prompt_number": 18,
       "text": [
        "{1, 2, 3, 4, 5, 6, 7, 8, 9, 10}"
       ]
      }
     ],
     "prompt_number": 18
    },
    {
     "cell_type": "markdown",
     "metadata": {},
     "source": [
      "$words\\_starting\\_with\\_b = \\{ w \\;|\\; w\\in words, w \\text{ zacina na \"b\"} \\}$"
     ]
    },
    {
     "cell_type": "code",
     "collapsed": false,
     "input": [
      "# words_starting_with_b = set()\n",
      "# for w in words:\n",
      "#     if w.startswith(\"b\"):\n",
      "#         words_starting_with_b.append(w)\n",
      "\n",
      "words_starting_with_b = {w for w in words if w.startswith(\"b\")}\n",
      "\n",
      "words_starting_with_b"
     ],
     "language": "python",
     "metadata": {},
     "outputs": [
      {
       "metadata": {},
       "output_type": "pyout",
       "prompt_number": 19,
       "text": [
        "{'bordered', 'both', 'by'}"
       ]
      }
     ],
     "prompt_number": 19
    },
    {
     "cell_type": "code",
     "collapsed": false,
     "input": [
      "unique_words = set(words)      # {w for w in words} == set(words)\n",
      "len(words), len(unique_words)"
     ],
     "language": "python",
     "metadata": {},
     "outputs": [
      {
       "metadata": {},
       "output_type": "pyout",
       "prompt_number": 25,
       "text": [
        "(104, 62)"
       ]
      }
     ],
     "prompt_number": 25
    },
    {
     "cell_type": "code",
     "collapsed": false,
     "input": [
      "occurences = {word: TEXT.count(word) for word in unique_words}\n",
      "occurences"
     ],
     "language": "python",
     "metadata": {},
     "outputs": [
      {
       "metadata": {},
       "output_type": "pyout",
       "prompt_number": 26,
       "text": [
        "{'which': 3,\n",
        " 'United': 1,\n",
        " 'for': 1,\n",
        " 'red': 3,\n",
        " 'lions': 1,\n",
        " 'with': 1,\n",
        " 'both': 1,\n",
        " 'four': 1,\n",
        " 'three': 1,\n",
        " 'Britain': 1,\n",
        " 'by': 1,\n",
        " 'in': 8,\n",
        " 'white': 1,\n",
        " 'Manchester': 1,\n",
        " 'bordered': 1,\n",
        " 'England': 8,\n",
        " 'Great': 1,\n",
        " 'The': 2,\n",
        " 'saint': 1,\n",
        " 'a': 37,\n",
        " 'also': 3,\n",
        " 'large': 3,\n",
        " 'of': 5,\n",
        " 'London': 1,\n",
        " 'Birmingham': 1,\n",
        " 'It': 1,\n",
        " 'used': 1,\n",
        " 'are': 3,\n",
        " 'cross': 3,\n",
        " 'up': 1,\n",
        " 'patron': 1,\n",
        " 'live': 1,\n",
        " 'symbols': 1,\n",
        " 'island': 1,\n",
        " 'Over': 1,\n",
        " 'capital': 1,\n",
        " 'rose': 1,\n",
        " 'Wales': 1,\n",
        " 'countries': 1,\n",
        " 'cities': 1,\n",
        " 'make': 1,\n",
        " 'who': 1,\n",
        " 'flag': 1,\n",
        " 'Kingdom': 1,\n",
        " 'Some': 1,\n",
        " 'other': 1,\n",
        " 'Saint': 1,\n",
        " 'George': 1,\n",
        " 'the': 8,\n",
        " 'and': 13,\n",
        " 'city': 2,\n",
        " '53': 1,\n",
        " 'people': 1,\n",
        " 'million': 1,\n",
        " 'is': 11,\n",
        " 'country': 1,\n",
        " 'This': 1,\n",
        " 'Leeds': 1,\n",
        " 'on': 6,\n",
        " 'Scotland': 1,\n",
        " 'English': 1,\n",
        " 'largest': 2}"
       ]
      }
     ],
     "prompt_number": 26
    }
   ],
   "metadata": {}
  }
 ]
}