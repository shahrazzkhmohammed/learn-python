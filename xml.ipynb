{
 "metadata": {
  "name": "",
  "signature": "sha256:91b1bdb0e4e4967e93b938dc6409a6d8099bfb0e8927e688e171906b5bb4f31d"
 },
 "nbformat": 3,
 "nbformat_minor": 0,
 "worksheets": [
  {
   "cells": [
    {
     "cell_type": "markdown",
     "metadata": {},
     "source": [
      "# XML (a Python)\n",
      "\n",
      "D\u0159\u00edve velmi popul\u00e1rn\u00ed technologie, dnes je trochu demod\u00e9. Nedostatky: ukecan\u00e1 textov\u00e1 podoba; XML je jednoduch\u00e9 a obecn\u00e9 - nem\u00e1 p\u0159\u00edmou podporu pro d\u016fle\u017eit\u00e9 datov\u00e9 typy (seznam, slovn\u00edk - v\u0161echno je string). V\u00fdhody: jednoduch\u00e9 a obecn\u00e9, univerz\u00e1ln\u011b podporov\u00e1no, existuj\u00ed odlad\u011bn\u00e9, mocn\u00e9 n\u00e1stroje pro pr\u00e1ci s XML.\n",
      "\n",
      "Alternativy:\n",
      "\n",
      "- __JSON__ (JavaScript Object Notation), velmi popul\u00e1rn\u00ed na webu. Odpov\u00edd\u00e1 programovac\u00edm jazyk\u016fm: um\u00ed listy, slovn\u00edky (se string kl\u00ed\u010di), stringy, floaty a None (null). D\u016fraz na jednoduchost, dnes u\u017e univerz\u00e1ln\u011b podporov\u00e1no, krat\u0161\u00ed z\u00e1pis.\n",
      "  - <https://en.wikipedia.org/wiki/JSON#Example>\n",
      "\n",
      "- __YAML__ (YAML Ain't a Markup Language), mnoho funkc\u00ed, \"p\u0159irozen\u00e1\" syntaxe s odsazov\u00e1n\u00edm a minimem zvl\u00e1\u0161tn\u00edch znak\u016f, vypad\u00e1 jako b\u011b\u017en\u00fd text. Zaj\u00edmav\u00e9, je t\u0159eba si d\u00e1t pozor na syntaxi, implementace mus\u00ed b\u00fdt nesm\u00edrn\u00e9 peklo, ale je podpora v mnoha jazyc\u00edch.\n",
      "  - <https://en.wikipedia.org/wiki/YAML#Examples>\n",
      "  - <http://yaml-online-parser.appspot.com/>\n",
      "\n",
      "Knihovny:\n",
      "\n",
      "- __xml.etree__ je ve standardn\u00ed knihovn\u011b: https://docs.python.org/3/library/xml.etree.elementtree.html\n",
      "- __lxml__ - nejlep\u0161\u00ed, obsahuje v sob\u011b etree, ale tak\u00e9 v\u00edce funkc\u00ed: <http://lxml.de/tutorial.html>\n",
      "- (__json__ je tak\u00e9 ve std. knihovn\u011b, YAML nikoliv)\n",
      "\n",
      "Souvisej\u00edc\u00ed technologie:\n",
      "\n",
      "- __XPath__ - dotazovac\u00ed jazyk, \"najdi v\u0161echny elementy B, kter\u00e9 maj\u00ed rodi\u010de A a atribut x rovn\u00fd 1\" \u2192 `//A/B[@x=\"1\"]`\n",
      "  - <https://en.wikipedia.org/wiki/XPath#Examples>\n",
      "- __XSLT__ - transforma\u010dn\u00ed \u0161ablony, mocn\u00fd n\u00e1stroj pro generov\u00e1n\u00ed XML nebo textu z XML zdroje. Tak\u00e9 lze pou\u017e\u00edt pro \"hezk\u00fd\" (HTML) pohled na XML data, podporov\u00e1no v prohl\u00ed\u017ee\u010d\u00edch, sta\u010d\u00ed do XML p\u0159idat \u0159\u00e1dek `<?xml-stylesheet type=\"text/xsl\" href=\"sablona.xsl\"?>`\n",
      "  - Je to vlastn\u011b funkcion\u00e1ln\u00ed programovac\u00ed jazyk.\n",
      "  - Pou\u017e\u00edv\u00e1 XPath.\n",
      "  - <http://lxml.de/xpathxslt.html>, <https://en.wikipedia.org/wiki/XSLT>\n",
      "  - Implementace: prohl\u00ed\u017ee\u010de, lxml, Saxon (samostatn\u00fd program)\n",
      "\n",
      "D\u016fle\u017eit\u00e9 pojmy:\n",
      "\n",
      "- __namespace__ - XML dokument se m\u016f\u017ee skl\u00e1dat z element\u016f (\u010di atribut\u016f) pat\u0159\u00edc\u00edch do r\u016fzn\u00fdch jazyk\u016f (nap\u0159. HTML + SVG anebo u \u0161ablon: cokoliv + XSL), namespacy maj\u00ed podobu \"odkaz\u016f\" jako `http://www.w3.org/1999/XSL/Transform`, v XML se pak bu\u010f nastav\u00ed jako v\u00fdchoz\u00ed (`xmlns=...`) anebo se jim nastav\u00ed n\u011bjak\u00fd alias (`xmlns:xsl=...`)\n",
      "  - probl\u00e9m v __lxml__ - pokud XML obsahuje namespace, tak se mus\u00ed v\u0161ude uv\u00e1d\u011bt, nejde nastavit v\u00fdchoz\u00ed namespace (netu\u0161\u00edm pro\u010d) http://lxml.de/xpathxslt.html#namespaces-and-prefixes\n",
      "- __well-formedness__ - spr\u00e1vn\u011b naform\u00e1tovan\u00fd XML dokument, tj. obsahuje jeden ko\u0159enov\u00fd element, v\u0161echny elementy jsou uzav\u0159en\u00e9, nek\u0159\u00ed\u017e\u00ed se atd.\n",
      "  - Pozor - nic ne\u0159\u00edk\u00e1 o tom, \u017ee dokument d\u00e1v\u00e1 smysl. XML je metajazyk, konkr\u00e9tn\u00ed jazyk je t\u0159eba HTML, SVG a podobn\u011b, kter\u00fd ud\u00e1v\u00e1, jak\u00e9 elementy existuj\u00ed, kde se mohou vyskytovat atd. Je v\u00edce n\u00e1stroj\u016f na popis XML jazyka a automatickou validaci, ale to asi nen\u00ed zaj\u00edmav\u00e9.\n",
      "  \n",
      "Jak generovat XML dokumenty?\n",
      "\n",
      "- __jinja2__, jednoduch\u00e9, pro\u010d ne, je pot\u0159eba d\u00e1t si pozor na well-formedness\n",
      "- __lxml__, bu\u010f skl\u00e1d\u00e1n\u00edm element\u016f od z\u00e1kladu, anebo p\u0159es XSLT - m\u016f\u017ee se hodit, v\u00fdstup je v\u017edy well-formed"
     ]
    },
    {
     "cell_type": "code",
     "collapsed": false,
     "input": [
      "from lxml import etree"
     ],
     "language": "python",
     "metadata": {},
     "outputs": [],
     "prompt_number": 2
    },
    {
     "cell_type": "code",
     "collapsed": false,
     "input": [
      "# namespace handling\n",
      "\n",
      "XHTML_STRANKA = \"\"\"\\\n",
      "<?xml version=\"1.0\"?>\n",
      "<!DOCTYPE html PUBLIC \"-//W3C//DTD XHTML 1.0 Strict//EN\" \"DTD/xhtml1-strict.dtd\">\n",
      "<html xmlns=\"http://www.w3.org/1999/xhtml\">\n",
      "  <head>\n",
      "    <title>Toto je webov\u00e1 str\u00e1nka v XHTML</title>\n",
      "  </head>\n",
      "  <body>\n",
      "    <p>This is a minimal <a href=\"http://www.w3.org/TR/xhtml1/\">XHTML 1.0</a>\n",
      "    document.</p>\n",
      "  </body>\n",
      "</html>\n",
      "\"\"\"\n",
      "\n",
      "tree = etree.XML(XHTML_STRANKA)\n",
      "\n",
      "for e in tree.xpath(\"//h:a\", namespaces={\"h\":\"http://www.w3.org/1999/xhtml\"}):\n",
      "    print(\"Odkaz s textem\", repr(e.text), \"vede na adresu\", e.attrib[\"href\"])"
     ],
     "language": "python",
     "metadata": {},
     "outputs": [
      {
       "output_type": "stream",
       "stream": "stdout",
       "text": [
        "Odkaz s textem 'XHTML 1.0' vede na adresu http://www.w3.org/TR/xhtml1/\n"
       ]
      }
     ],
     "prompt_number": 3
    },
    {
     "cell_type": "code",
     "collapsed": false,
     "input": [
      "# prochazeni celeho stromu do hloubky\n",
      "\n",
      "for e in tree.iter():\n",
      "    print(e)"
     ],
     "language": "python",
     "metadata": {},
     "outputs": [
      {
       "output_type": "stream",
       "stream": "stdout",
       "text": [
        "<Element {http://www.w3.org/1999/xhtml}html at 0x3a0ad28>\n",
        "<Element {http://www.w3.org/1999/xhtml}head at 0x3a12aa8>\n",
        "<Element {http://www.w3.org/1999/xhtml}title at 0x3a12490>\n",
        "<Element {http://www.w3.org/1999/xhtml}body at 0x3a12ad0>\n",
        "<Element {http://www.w3.org/1999/xhtml}p at 0x3a12aa8>\n",
        "<Element {http://www.w3.org/1999/xhtml}a at 0x3a12490>\n"
       ]
      }
     ],
     "prompt_number": 4
    },
    {
     "cell_type": "code",
     "collapsed": false,
     "input": [
      "# XSL sablona\n",
      "\n",
      "JEDNODUCHE_XML = \"\"\"\\\n",
      "<?xml version=\"1.0\"?>\n",
      "<zoo>\n",
      " <vybeh name=\"Vybeh #1\">\n",
      "  <osetrovatel jmeno=\"Jan Novak\"/>\n",
      "  <zvire druh=\"pes domaci\"/>\n",
      "  <zvire druh=\"pes domaci\"/>\n",
      "  <zvire druh=\"pes domaci\"/>\n",
      " </vybeh>\n",
      " <vybeh name=\"Vybeh #2\">\n",
      "  <osetrovatel jmeno=\"Jiri Petr\"/>\n",
      "  <osetrovatel jmeno=\"Lucie Petrova\"/>\n",
      "  <zvire druh=\"tygr ussurijsky\"/>\n",
      "  <zvire druh=\"tygr ussurijsky\"/>\n",
      "  <zvire druh=\"tygr ussurijsky\"/>\n",
      " </vybeh>\n",
      "</zoo>\n",
      "\"\"\"\n",
      "\n",
      "\n",
      "\n",
      "XSLT_SABLONA = \"\"\"\\\n",
      "<?xml version=\"1.0\"?>\n",
      "<xsl:stylesheet version=\"1.0\" xmlns:xsl=\"http://www.w3.org/1999/XSL/Transform\">\n",
      "   <xsl:template match=\"/\">\n",
      "      <html>\n",
      "      <body>\n",
      "      <p>Seznam osetrovatelu:</p>\n",
      "      <ul>\n",
      "      <xsl:apply-templates select=\"//osetrovatel\"/>\n",
      "      </ul>\n",
      "      <p>Seznam zvirat:</p>\n",
      "      <ul>\n",
      "      <xsl:apply-templates select=\"//zvire\"/>\n",
      "      </ul>\n",
      "      </body>\n",
      "      </html>\n",
      "   </xsl:template>\n",
      "\n",
      "   <xsl:template match=\"osetrovatel\">\n",
      "      <li><xsl:value-of select=\"@jmeno\" /> (<xsl:value-of select=\"../@name\" />)</li>\n",
      "   </xsl:template>\n",
      "   \n",
      "   <xsl:template match=\"zvire\">\n",
      "      <li><xsl:value-of select=\"@druh\" /></li>\n",
      "   </xsl:template>\n",
      "</xsl:stylesheet>\n",
      "\"\"\"\n",
      "\n",
      "jednoduche = etree.XML(JEDNODUCHE_XML)\n",
      "xslt_tree = etree.XML(XSLT_SABLONA)\n",
      "transform = etree.XSLT(xslt_tree)\n",
      "result = transform(jednoduche)\n",
      "print(str(result))"
     ],
     "language": "python",
     "metadata": {},
     "outputs": [
      {
       "output_type": "stream",
       "stream": "stdout",
       "text": [
        "<html><body>\n",
        "<p>Seznam osetrovatelu:</p>\n",
        "<ul>\n",
        "<li>Jan Novak (Vybeh #1)</li>\n",
        "<li>Jiri Petr (Vybeh #2)</li>\n",
        "<li>Lucie Petrova (Vybeh #2)</li>\n",
        "</ul>\n",
        "<p>Seznam zvirat:</p>\n",
        "<ul>\n",
        "<li>pes domaci</li>\n",
        "<li>pes domaci</li>\n",
        "<li>pes domaci</li>\n",
        "<li>tygr ussurijsky</li>\n",
        "<li>tygr ussurijsky</li>\n",
        "<li>tygr ussurijsky</li>\n",
        "</ul>\n",
        "</body></html>\n",
        "\n"
       ]
      }
     ],
     "prompt_number": 28
    }
   ],
   "metadata": {}
  }
 ]
}