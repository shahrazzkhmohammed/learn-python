{
 "cells": [
  {
   "cell_type": "markdown",
   "metadata": {},
   "source": [
    "# OOP dopravní podnik\n",
    "\n",
    "V tomto notebooku jsou dvě třídy:\n",
    "\n",
    "- __Linka__ obsahuje seznam zastávek\n",
    "    - umí hledat cestu mezi dvěma zastávkami\n",
    "- __DopravniPodnik__ je síť Linek (uvnitř jde o slovník {název: Linka})\n",
    "    - umí zjistit přestupní stanice\n",
    "    - umí hledat cestu s přestupy\n",
    "\n",
    "Omezení: DopravniPodnik neumí najít potřebné přestupní stanice sám, je potřeba mu je \"poradit\" pomocí parametru.\n",
    "\n",
    "Co si z toho vzít?\n",
    "\n",
    "- DopravniPodnik používá metody Linky, nedělá všechnu práci sám.\n",
    "- V případě chyby jsou vyhozeny výjimky s popisem, co je špatně.\n",
    "- Jak vypadá kód včetně dokumentace.\n",
    "    - Popis metody může být delší než samotná metoda. To je v pořádku.\n",
    "    - Z dokumentace má být jasné, co metody potřebují za parametry, co vracejí, jak třídu používat.\n",
    "    - Jeden příklad použití kódu vydá za tisíc slov (`>>>`).\n",
    "\n",
    "Jak psát `\"\"\"docstringy\"\"\"` (Google Python Style Guide): https://google.github.io/styleguide/pyguide.html?showone=Comments#Comments"
   ]
  },
  {
   "cell_type": "code",
   "execution_count": 1,
   "metadata": {
    "collapsed": true
   },
   "outputs": [],
   "source": [
    "METRO_A = [\"Depo Hostivař\", \"Skalka\", \"Strašnická\", \"Želivského\", \"Flora\", \"Jiřího z Poděbrad\",\n",
    "           \"Náměstí Míru\", \"Muzeum\", \"Můstek\", \"Staroměstská\", \"Malostranská\", \"Hradčanská\",\n",
    "           \"Dejvická\", \"Bořislavka\", \"Nádraží Veleslavín\", \"Petřiny\", \"Nemocnice Motol\"]\n",
    "\n",
    "METRO_B = [\"Zličín\", \"Stodůlky\", \"Luka\", \"Lužiny\", \"Hůrka\", \"Nové Butovice\", \"Jinonice\", \"Radlická\",\n",
    "           \"Smíchovské nádraží\", \"Anděl\", \"Karlovo náměstí\", \"Národní třída\", \"Můstek\", \"Náměstí Republiky\",\n",
    "           \"Florenc\", \"Křižíkova\", \"Invalidovna\", \"Palmovka\", \"Českomoravská\", \"Vysočanská\", \"Kolbenova\",\n",
    "           \"Hloubětín\", \"Rajská zahrada\", \"Černý Most\"]\n",
    "\n",
    "METRO_C = [\"Letňany\", \"Prosek\", \"Střížkov\", \"Ládví\", \"Kobylisy\", \"Nádraží Holešovice\", \"Vltavská\", \"Florenc\",\n",
    "           \"Hlavní nádraží\", \"Muzeum\", \"I. P. Pavlova\", \"Vyšehrad\", \"Pražského povstání\", \"Pankrác\", \"Budějovická\",\n",
    "           \"Kačerov\", \"Roztyly\", \"Chodov\", \"Opatov\", \"Háje\"]\n",
    "\n",
    "TRAM_1 = [\"Spojovací\", \"Kněžská luka\", \"Chmelnice\", \"Strážní\", \"Vozovna Žižkov\", \"Ohrada\", \"Krejcárek\", \"Palmovka\",\n",
    "          \"Libeňský most\", \"Maniny\", \"Tusarova\", \"Pražská tržnice\", \"Vltavská\", \"Strossmayerovo náměstí\", \"Kamenická\",\n",
    "          \"Letenské náměstí\", \"Korunovační\", \"Sparta\", \"Hradčanská\", \"Prašný most\", \"Vozovna Střešovice\", \"Sibeliova\",\n",
    "          \"Ořechovka\", \"Baterie\", \"Vojenská nemocnice\", \"Větrník\", \"Petřiny\", \"Sídliště Petřiny\"]"
   ]
  },
  {
   "cell_type": "code",
   "execution_count": 2,
   "metadata": {
    "collapsed": false
   },
   "outputs": [
    {
     "data": {
      "text/plain": [
       "<Linka ['Depo Hostivař', 'Skalka', 'Strašnická', 'Želivského', 'Flora', 'Jiřího z Poděbrad', 'Náměstí Míru', 'Muzeum', 'Můstek', 'Staroměstská', 'Malostranská', 'Hradčanská', 'Dejvická', 'Bořislavka', 'Nádraží Veleslavín', 'Petřiny', 'Nemocnice Motol']>"
      ]
     },
     "execution_count": 2,
     "metadata": {},
     "output_type": "execute_result"
    }
   ],
   "source": [
    "class Linka:\n",
    "    \"\"\"\n",
    "    Linka mestske dopravy.\n",
    "    \n",
    "    Atributy:\n",
    "        linka.zastavky - seznam nazvu zastavek\n",
    "    \n",
    "    Metody:\n",
    "        delka() - pocet zastavek\n",
    "        najdi_trasu() - najde trasu mezi dvema zastavkami\n",
    "    \n",
    "    \"\"\"\n",
    "    def __init__(self, zastavky):\n",
    "        \"\"\"\n",
    "        Vytvori novou linku.\n",
    "        \n",
    "        Parametry:\n",
    "            zastavky - seznam nazvu zastavek\n",
    "        \n",
    "        \"\"\"\n",
    "        self.zastavky = zastavky\n",
    "    \n",
    "    def delka(self):\n",
    "        \"\"\"Pocet zastavek\"\"\"\n",
    "        return len(self.zastavky)\n",
    "    \n",
    "    def najdi_trasu(self, nastup, vystup):\n",
    "        \"\"\"\n",
    "        Najdi trasu mezi dvema zastavkami\n",
    "        \n",
    "        Parametry:\n",
    "            nastup - nazev prvni zastavky\n",
    "            vystup - nazev posledni zastavky\n",
    "        \n",
    "        Vraci:\n",
    "            seznam zastavek na trase - [nastup, ...mezistanice..., vystup]\n",
    "        \n",
    "        Vyjimky:\n",
    "            ValueError - nastup nebo vystup neni stanice na dane lince\n",
    "        \n",
    "        \"\"\"\n",
    "        if nastup not in self.zastavky or vystup not in self.zastavky:\n",
    "            raise ValueError(\"Linka neobsahuje nekterou z koncovych zastavek trasy.\")\n",
    "        \n",
    "        i = self.zastavky.index(nastup)  # self.zastavky[i] == nastup\n",
    "        j = self.zastavky.index(vystup)\n",
    "        \n",
    "        if i <= j:\n",
    "            return self.zastavky[i:j+1]\n",
    "        else:\n",
    "            # vystupni zastavka je v seznamu zastavek jako prvni, trasu je potreba obratit\n",
    "            trasa = self.zastavky[j:i+1]\n",
    "            return list(reversed(trasa))\n",
    "\n",
    "    def __repr__(self):\n",
    "        return \"<Linka {}>\".format(self.zastavky)\n",
    "\n",
    "linka_a = Linka(METRO_A)\n",
    "linka_a"
   ]
  },
  {
   "cell_type": "code",
   "execution_count": 3,
   "metadata": {
    "collapsed": false
   },
   "outputs": [
    {
     "name": "stdout",
     "output_type": "stream",
     "text": [
      "Metro A má 17 zastávek.\n"
     ]
    }
   ],
   "source": [
    "print(\"Metro A má\", linka_a.delka(), \"zastávek.\")"
   ]
  },
  {
   "cell_type": "code",
   "execution_count": 4,
   "metadata": {
    "collapsed": false
   },
   "outputs": [
    {
     "name": "stdout",
     "output_type": "stream",
     "text": [
      "['Muzeum', 'Můstek', 'Staroměstská', 'Malostranská', 'Hradčanská', 'Dejvická']\n",
      "['Dejvická', 'Hradčanská', 'Malostranská', 'Staroměstská', 'Můstek', 'Muzeum']\n"
     ]
    }
   ],
   "source": [
    "print(linka_a.najdi_trasu(\"Muzeum\", \"Dejvická\"))\n",
    "print(linka_a.najdi_trasu(\"Dejvická\", \"Muzeum\"))"
   ]
  },
  {
   "cell_type": "code",
   "execution_count": 5,
   "metadata": {
    "collapsed": false
   },
   "outputs": [
    {
     "name": "stdout",
     "output_type": "stream",
     "text": [
      "Metro A\n",
      "  - Depo Hostivař\n",
      "  - Skalka\n",
      "  - Strašnická\n",
      "  - Želivského\n",
      "  - Flora\n",
      "  - Jiřího z Poděbrad\n",
      "  - Náměstí Míru\n",
      "  - Muzeum\n",
      "  - Můstek\n",
      "  - Staroměstská\n",
      "  - Malostranská\n",
      "  - Hradčanská\n",
      "  - Dejvická\n",
      "  - Bořislavka\n",
      "  - Nádraží Veleslavín\n",
      "  - Petřiny\n",
      "  - Nemocnice Motol\n",
      "\n"
     ]
    }
   ],
   "source": [
    "class DopravniPodnik:\n",
    "    \"\"\"\n",
    "    Systém dopravních linek s přestupy\n",
    "    \n",
    "    Metody:\n",
    "        pridej_linku()\n",
    "        vypis_prehled()\n",
    "        prestupni_stanice() - najde stanice, ktere jsou na vice linkach\n",
    "        najdi_zastavku() - najde linky, na kterych se nachazi zastavka\n",
    "        najdi_trasu() - najde trasu na nektere lince\n",
    "        najdi_trasu_s_prestupy() - najde cestu pres vice linek\n",
    "    \n",
    "    \"\"\"\n",
    "    def __init__(self):\n",
    "        \"\"\"\n",
    "        Vytvori prazdnou sit linek\n",
    "        \n",
    "        Pro vytvoreni site pouzijte metodu pridej_linku().\n",
    "        \n",
    "        \"\"\"\n",
    "        self.linky = {}\n",
    "    \n",
    "    def pridej_linku(self, nazev, linka):\n",
    "        \"\"\"\n",
    "        Prida linku do dopravni site\n",
    "        \n",
    "        Parametry:\n",
    "            nazev - jmeno linky\n",
    "            linka - objekt tridy Linka (popis zastavek na lince)\n",
    "        \n",
    "        \"\"\"\n",
    "        if not isinstance(linka, Linka):\n",
    "            raise TypeError(\"Parametr linka musi byt objekt tridy Linka.\")\n",
    "        \n",
    "        self.linky[nazev] = linka\n",
    "    \n",
    "    def vypis_prehled(self):\n",
    "        \"\"\"Vypis vsech linek a jejich nazvu\"\"\"\n",
    "        for nazev, linka in self.linky.items():\n",
    "            print(nazev)\n",
    "            for zastavka in linka.zastavky:\n",
    "                print(\"  -\", zastavka)\n",
    "            print()  # prazdny radek\n",
    "    \n",
    "    def prestupni_stanice(self):\n",
    "        \"\"\"Vrati seznam stanic, ktere jsou na vic nez jedne lince\"\"\"\n",
    "        pocitadlo = {}  # jmeno zastavky -> pocet linek, na kterych se nachazi\n",
    "        \n",
    "        for _, linka in self.linky.items():\n",
    "            for zastavka in linka.zastavky:\n",
    "                if zastavka not in pocitadlo:\n",
    "                    pocitadlo[zastavka] = 1\n",
    "                else:\n",
    "                    pocitadlo[zastavka] += 1\n",
    "        \n",
    "        prestupni = []\n",
    "        \n",
    "        for zastavka, pocet_linek in pocitadlo.items():\n",
    "            if pocet_linek > 1:\n",
    "                prestupni.append(zastavka)\n",
    "\n",
    "        return prestupni\n",
    "    \n",
    "    def najdi_zastavku(self, zastavka):\n",
    "        \"\"\"\n",
    "        Vrati seznam linek pro danou zastavku\n",
    "        \n",
    "        Parametry:\n",
    "            zastavka - nazev hledane zastavky\n",
    "        \n",
    "        Vraci:\n",
    "            seznam nazvu linek, na kterych se zastavka nachazi\n",
    "        \n",
    "        Vyjimky:\n",
    "            ValueError - zastavka neni na zadne lince\n",
    "        \n",
    "        \"\"\"\n",
    "        vystup = []\n",
    "        for nazev_linky, linka in self.linky.items():\n",
    "            if zastavka in linka.zastavky:\n",
    "                vystup.append(nazev_linky)\n",
    "            \n",
    "        if not vystup:\n",
    "            raise ValueError(\"Zastavka {} neni na zadne lince.\".format(zastavka))\n",
    "        \n",
    "        return vystup\n",
    "    \n",
    "    def najdi_trasu(self, nastup, vystup):\n",
    "        \"\"\"\n",
    "        Zjisti trasu mezi zastavkami nastup, vystup na jedne lince\n",
    "        \n",
    "        Priklad:\n",
    "            >>> dp.najdi_trasu(\"nastup\", \"vystup\")\n",
    "            ([\"linka 1\"], [\"nastup\", \"mezistanice 1\", \"mezistanice 2\", \"vystup\"])\n",
    "        \n",
    "        Parametry:\n",
    "            nastup: nazev prvni stanice (musi byt na teze lince)\n",
    "            vystup: nazev posledni stanice (musi byt na teze lince)\n",
    "        \n",
    "        Vraci:\n",
    "            dvojice (nazev_linky, seznam_zastavek)\n",
    "        \n",
    "        Vyjimky:\n",
    "            ValueError - zastavky nelezi na stejne lince, zastavky nejsou vubec zname\n",
    "        \n",
    "        \"\"\"\n",
    "        \n",
    "        # TODO: funkce sama najde vhodne prestupy (-> hledani cesty v grafu)\n",
    "        \n",
    "        linky_s_nastupem = self.najdi_zastavku(nastup)\n",
    "        linky_s_vystupem = self.najdi_zastavku(vystup)\n",
    "        for linka in linky_s_nastupem:\n",
    "            if linka in linky_s_vystupem:\n",
    "                return linka, self.linky[linka].najdi_trasu(nastup, vystup)\n",
    "        \n",
    "        raise ValueError(\"Zastavky {} a {} nemaji spolecnou linku.\".format(nastup, vystup))\n",
    "    \n",
    "    def najdi_trasu_s_prestupy(self, nastup, vystup, prestupy):\n",
    "        \"\"\"\n",
    "        Zjisti trasu mezi zastavkami nastup, vystup se zadanymi prestupy\n",
    "        \n",
    "        Najde se trasa nastup -> prestupy[0] -> ... -> prestupy[-1] -> vystup.\n",
    "        \n",
    "        Priklad:\n",
    "            >>> dp.najdi_trasu_s_prestupy(\"nastup\", \"vystup\", [\"prestupni\"])\n",
    "            ([\"linka 1\", \"linka 2\"],\n",
    "             [[\"nastup\", \"prestupni\"], [\"prestupni\", \"vystup\"]])\n",
    "        \n",
    "        Parametry:\n",
    "            nastup: nazev prvni stanice\n",
    "            vystup: nazev posledni stanice\n",
    "            prestupy: seznam nazvu stanic, kde se ma zmenit linka\n",
    "        \n",
    "        Vraci:\n",
    "            dvojice (seznam_linek, seznam_zastavek_na_linkach)\n",
    "        \n",
    "        Vyjimky:\n",
    "            ValueError - linky se neprotinaji nebo nektera zastavka neexistuje\n",
    "        \n",
    "        \"\"\"\n",
    "        trasa_po_castech = []\n",
    "        pouzite_linky = []\n",
    "        \n",
    "        linka, cast_trasy = self.najdi_trasu(nastup, prestupy[0])\n",
    "        trasa_po_castech.append(cast_trasy)\n",
    "        pouzite_linky.append(linka)\n",
    "\n",
    "        for i in range(len(prestupy)-1):\n",
    "            linka, cast_trasy = self.najdi_trasu(prestupy[i], prestupy[i+1])\n",
    "            trasa_po_castech.append(cast_trasy)\n",
    "            pouzite_linky.append(linka)\n",
    "        \n",
    "        linka, cast_trasy = self.najdi_trasu(prestupy[-1], vystup)\n",
    "        trasa_po_castech.append(cast_trasy)\n",
    "        pouzite_linky.append(linka)\n",
    "        \n",
    "        return pouzite_linky, trasa_po_castech\n",
    "\n",
    "pid = DopravniPodnik()  # Pražská Integrovaná Doprava\n",
    "pid.pridej_linku(\"Metro A\", linka_a)\n",
    "pid.vypis_prehled()\n",
    "\n",
    "pid.pridej_linku(\"Metro B\", Linka(METRO_B))\n",
    "pid.pridej_linku(\"Metro C\", Linka(METRO_C))\n",
    "pid.pridej_linku(\"Tram č. 1\", Linka(TRAM_1))\n",
    "# pid.vypis_prehled()"
   ]
  },
  {
   "cell_type": "code",
   "execution_count": 6,
   "metadata": {
    "collapsed": false
   },
   "outputs": [
    {
     "data": {
      "text/plain": [
       "['Florenc',\n",
       " 'Muzeum',\n",
       " 'Hradčanská',\n",
       " 'Můstek',\n",
       " 'Palmovka',\n",
       " 'Petřiny',\n",
       " 'Vltavská']"
      ]
     },
     "execution_count": 6,
     "metadata": {},
     "output_type": "execute_result"
    }
   ],
   "source": [
    "pid.prestupni_stanice()"
   ]
  },
  {
   "cell_type": "code",
   "execution_count": 7,
   "metadata": {
    "collapsed": false
   },
   "outputs": [
    {
     "data": {
      "text/plain": [
       "('Tram č. 1',\n",
       " ['Hradčanská',\n",
       "  'Sparta',\n",
       "  'Korunovační',\n",
       "  'Letenské náměstí',\n",
       "  'Kamenická',\n",
       "  'Strossmayerovo náměstí',\n",
       "  'Vltavská'])"
      ]
     },
     "execution_count": 7,
     "metadata": {},
     "output_type": "execute_result"
    }
   ],
   "source": [
    "pid.najdi_trasu(\"Hradčanská\", \"Vltavská\")"
   ]
  },
  {
   "cell_type": "code",
   "execution_count": 8,
   "metadata": {
    "collapsed": false
   },
   "outputs": [
    {
     "ename": "ValueError",
     "evalue": "Zastavky Hradčanská a Háje nemaji spolecnou linku.",
     "output_type": "error",
     "traceback": [
      "\u001b[1;31m---------------------------------------------------------------------------\u001b[0m",
      "\u001b[1;31mValueError\u001b[0m                                Traceback (most recent call last)",
      "\u001b[1;32m<ipython-input-8-939b9d5b6349>\u001b[0m in \u001b[0;36m<module>\u001b[1;34m()\u001b[0m\n\u001b[1;32m----> 1\u001b[1;33m \u001b[0mpid\u001b[0m\u001b[1;33m.\u001b[0m\u001b[0mnajdi_trasu\u001b[0m\u001b[1;33m(\u001b[0m\u001b[1;34m\"Hradčanská\"\u001b[0m\u001b[1;33m,\u001b[0m \u001b[1;34m\"Háje\"\u001b[0m\u001b[1;33m)\u001b[0m\u001b[1;33m\u001b[0m\u001b[0m\n\u001b[0m",
      "\u001b[1;32m<ipython-input-5-51b2d9375956>\u001b[0m in \u001b[0;36mnajdi_trasu\u001b[1;34m(self, nastup, vystup)\u001b[0m\n\u001b[0;32m    114\u001b[0m                 \u001b[1;32mreturn\u001b[0m \u001b[0mlinka\u001b[0m\u001b[1;33m,\u001b[0m \u001b[0mself\u001b[0m\u001b[1;33m.\u001b[0m\u001b[0mlinky\u001b[0m\u001b[1;33m[\u001b[0m\u001b[0mlinka\u001b[0m\u001b[1;33m]\u001b[0m\u001b[1;33m.\u001b[0m\u001b[0mnajdi_trasu\u001b[0m\u001b[1;33m(\u001b[0m\u001b[0mnastup\u001b[0m\u001b[1;33m,\u001b[0m \u001b[0mvystup\u001b[0m\u001b[1;33m)\u001b[0m\u001b[1;33m\u001b[0m\u001b[0m\n\u001b[0;32m    115\u001b[0m \u001b[1;33m\u001b[0m\u001b[0m\n\u001b[1;32m--> 116\u001b[1;33m         \u001b[1;32mraise\u001b[0m \u001b[0mValueError\u001b[0m\u001b[1;33m(\u001b[0m\u001b[1;34m\"Zastavky {} a {} nemaji spolecnou linku.\"\u001b[0m\u001b[1;33m.\u001b[0m\u001b[0mformat\u001b[0m\u001b[1;33m(\u001b[0m\u001b[0mnastup\u001b[0m\u001b[1;33m,\u001b[0m \u001b[0mvystup\u001b[0m\u001b[1;33m)\u001b[0m\u001b[1;33m)\u001b[0m\u001b[1;33m\u001b[0m\u001b[0m\n\u001b[0m\u001b[0;32m    117\u001b[0m \u001b[1;33m\u001b[0m\u001b[0m\n\u001b[0;32m    118\u001b[0m     \u001b[1;32mdef\u001b[0m \u001b[0mnajdi_trasu_s_prestupy\u001b[0m\u001b[1;33m(\u001b[0m\u001b[0mself\u001b[0m\u001b[1;33m,\u001b[0m \u001b[0mnastup\u001b[0m\u001b[1;33m,\u001b[0m \u001b[0mvystup\u001b[0m\u001b[1;33m,\u001b[0m \u001b[0mprestupy\u001b[0m\u001b[1;33m)\u001b[0m\u001b[1;33m:\u001b[0m\u001b[1;33m\u001b[0m\u001b[0m\n",
      "\u001b[1;31mValueError\u001b[0m: Zastavky Hradčanská a Háje nemaji spolecnou linku."
     ]
    }
   ],
   "source": [
    "pid.najdi_trasu(\"Hradčanská\", \"Háje\")"
   ]
  },
  {
   "cell_type": "code",
   "execution_count": 9,
   "metadata": {
    "collapsed": false
   },
   "outputs": [
    {
     "data": {
      "text/plain": [
       "(['Metro A', 'Metro C'],\n",
       " [['Hradčanská', 'Malostranská', 'Staroměstská', 'Můstek', 'Muzeum'],\n",
       "  ['Muzeum',\n",
       "   'I. P. Pavlova',\n",
       "   'Vyšehrad',\n",
       "   'Pražského povstání',\n",
       "   'Pankrác',\n",
       "   'Budějovická',\n",
       "   'Kačerov',\n",
       "   'Roztyly',\n",
       "   'Chodov',\n",
       "   'Opatov',\n",
       "   'Háje']])"
      ]
     },
     "execution_count": 9,
     "metadata": {},
     "output_type": "execute_result"
    }
   ],
   "source": [
    "pid.najdi_trasu_s_prestupy(\"Hradčanská\", \"Háje\", [\"Muzeum\"])"
   ]
  },
  {
   "cell_type": "code",
   "execution_count": 10,
   "metadata": {
    "collapsed": false
   },
   "outputs": [
    {
     "ename": "ValueError",
     "evalue": "Zastavky Můstek a Háje nemaji spolecnou linku.",
     "output_type": "error",
     "traceback": [
      "\u001b[1;31m---------------------------------------------------------------------------\u001b[0m",
      "\u001b[1;31mValueError\u001b[0m                                Traceback (most recent call last)",
      "\u001b[1;32m<ipython-input-10-0cc9f82ee5e0>\u001b[0m in \u001b[0;36m<module>\u001b[1;34m()\u001b[0m\n\u001b[1;32m----> 1\u001b[1;33m \u001b[0mpid\u001b[0m\u001b[1;33m.\u001b[0m\u001b[0mnajdi_trasu_s_prestupy\u001b[0m\u001b[1;33m(\u001b[0m\u001b[1;34m\"Hradčanská\"\u001b[0m\u001b[1;33m,\u001b[0m \u001b[1;34m\"Háje\"\u001b[0m\u001b[1;33m,\u001b[0m \u001b[1;33m[\u001b[0m\u001b[1;34m\"Můstek\"\u001b[0m\u001b[1;33m]\u001b[0m\u001b[1;33m)\u001b[0m\u001b[1;33m\u001b[0m\u001b[0m\n\u001b[0m",
      "\u001b[1;32m<ipython-input-5-51b2d9375956>\u001b[0m in \u001b[0;36mnajdi_trasu_s_prestupy\u001b[1;34m(self, nastup, vystup, prestupy)\u001b[0m\n\u001b[0;32m    151\u001b[0m             \u001b[0mpouzite_linky\u001b[0m\u001b[1;33m.\u001b[0m\u001b[0mappend\u001b[0m\u001b[1;33m(\u001b[0m\u001b[0mlinka\u001b[0m\u001b[1;33m)\u001b[0m\u001b[1;33m\u001b[0m\u001b[0m\n\u001b[0;32m    152\u001b[0m \u001b[1;33m\u001b[0m\u001b[0m\n\u001b[1;32m--> 153\u001b[1;33m         \u001b[0mlinka\u001b[0m\u001b[1;33m,\u001b[0m \u001b[0mcast_trasy\u001b[0m \u001b[1;33m=\u001b[0m \u001b[0mself\u001b[0m\u001b[1;33m.\u001b[0m\u001b[0mnajdi_trasu\u001b[0m\u001b[1;33m(\u001b[0m\u001b[0mprestupy\u001b[0m\u001b[1;33m[\u001b[0m\u001b[1;33m-\u001b[0m\u001b[1;36m1\u001b[0m\u001b[1;33m]\u001b[0m\u001b[1;33m,\u001b[0m \u001b[0mvystup\u001b[0m\u001b[1;33m)\u001b[0m\u001b[1;33m\u001b[0m\u001b[0m\n\u001b[0m\u001b[0;32m    154\u001b[0m         \u001b[0mtrasa_po_castech\u001b[0m\u001b[1;33m.\u001b[0m\u001b[0mappend\u001b[0m\u001b[1;33m(\u001b[0m\u001b[0mcast_trasy\u001b[0m\u001b[1;33m)\u001b[0m\u001b[1;33m\u001b[0m\u001b[0m\n\u001b[0;32m    155\u001b[0m         \u001b[0mpouzite_linky\u001b[0m\u001b[1;33m.\u001b[0m\u001b[0mappend\u001b[0m\u001b[1;33m(\u001b[0m\u001b[0mlinka\u001b[0m\u001b[1;33m)\u001b[0m\u001b[1;33m\u001b[0m\u001b[0m\n",
      "\u001b[1;32m<ipython-input-5-51b2d9375956>\u001b[0m in \u001b[0;36mnajdi_trasu\u001b[1;34m(self, nastup, vystup)\u001b[0m\n\u001b[0;32m    114\u001b[0m                 \u001b[1;32mreturn\u001b[0m \u001b[0mlinka\u001b[0m\u001b[1;33m,\u001b[0m \u001b[0mself\u001b[0m\u001b[1;33m.\u001b[0m\u001b[0mlinky\u001b[0m\u001b[1;33m[\u001b[0m\u001b[0mlinka\u001b[0m\u001b[1;33m]\u001b[0m\u001b[1;33m.\u001b[0m\u001b[0mnajdi_trasu\u001b[0m\u001b[1;33m(\u001b[0m\u001b[0mnastup\u001b[0m\u001b[1;33m,\u001b[0m \u001b[0mvystup\u001b[0m\u001b[1;33m)\u001b[0m\u001b[1;33m\u001b[0m\u001b[0m\n\u001b[0;32m    115\u001b[0m \u001b[1;33m\u001b[0m\u001b[0m\n\u001b[1;32m--> 116\u001b[1;33m         \u001b[1;32mraise\u001b[0m \u001b[0mValueError\u001b[0m\u001b[1;33m(\u001b[0m\u001b[1;34m\"Zastavky {} a {} nemaji spolecnou linku.\"\u001b[0m\u001b[1;33m.\u001b[0m\u001b[0mformat\u001b[0m\u001b[1;33m(\u001b[0m\u001b[0mnastup\u001b[0m\u001b[1;33m,\u001b[0m \u001b[0mvystup\u001b[0m\u001b[1;33m)\u001b[0m\u001b[1;33m)\u001b[0m\u001b[1;33m\u001b[0m\u001b[0m\n\u001b[0m\u001b[0;32m    117\u001b[0m \u001b[1;33m\u001b[0m\u001b[0m\n\u001b[0;32m    118\u001b[0m     \u001b[1;32mdef\u001b[0m \u001b[0mnajdi_trasu_s_prestupy\u001b[0m\u001b[1;33m(\u001b[0m\u001b[0mself\u001b[0m\u001b[1;33m,\u001b[0m \u001b[0mnastup\u001b[0m\u001b[1;33m,\u001b[0m \u001b[0mvystup\u001b[0m\u001b[1;33m,\u001b[0m \u001b[0mprestupy\u001b[0m\u001b[1;33m)\u001b[0m\u001b[1;33m:\u001b[0m\u001b[1;33m\u001b[0m\u001b[0m\n",
      "\u001b[1;31mValueError\u001b[0m: Zastavky Můstek a Háje nemaji spolecnou linku."
     ]
    }
   ],
   "source": [
    "pid.najdi_trasu_s_prestupy(\"Hradčanská\", \"Háje\", [\"Můstek\"])"
   ]
  },
  {
   "cell_type": "code",
   "execution_count": 11,
   "metadata": {
    "collapsed": false
   },
   "outputs": [
    {
     "data": {
      "text/plain": [
       "(['Tram č. 1', 'Metro C', 'Metro A'],\n",
       " [['Pražská tržnice', 'Vltavská'],\n",
       "  ['Vltavská', 'Florenc', 'Hlavní nádraží', 'Muzeum'],\n",
       "  ['Muzeum', 'Náměstí Míru', 'Jiřího z Poděbrad']])"
      ]
     },
     "execution_count": 11,
     "metadata": {},
     "output_type": "execute_result"
    }
   ],
   "source": [
    "pid.najdi_trasu_s_prestupy(\"Pražská tržnice\", \"Jiřího z Poděbrad\", [\"Vltavská\", \"Muzeum\"])"
   ]
  },
  {
   "cell_type": "markdown",
   "metadata": {},
   "source": [
    "## Bonus"
   ]
  },
  {
   "cell_type": "code",
   "execution_count": 12,
   "metadata": {
    "collapsed": false
   },
   "outputs": [
    {
     "name": "stdout",
     "output_type": "stream",
     "text": [
      "100000 loops, best of 3: 3.16 µs per loop\n",
      "The slowest run took 18.00 times longer than the fastest. This could mean that an intermediate result is being cached \n",
      "1000000 loops, best of 3: 648 ns per loop\n"
     ]
    }
   ],
   "source": [
    "# LinkaRychla dedi z tridy Linka\n",
    "\n",
    "class LinkaRychla(Linka):\n",
    "    \"\"\"\n",
    "    Rychlejsi implementace tridy Linka.\n",
    "    \n",
    "    \"\"\"\n",
    "    def __init__(self, zastavky):\n",
    "        super().__init__(zastavky)  # volani konstruktoru, tj. __init__ v puvodni tride Linka\n",
    "        \n",
    "        self._cache_pro_trasy = {}  # (zacatek,konec) -> trasa\n",
    "        \n",
    "        # Slovnik self._cache_pro_trasy je implementacni detail, uzivatele tridy se o nej nemuseji zajimat.\n",
    "        # V nove verzi tridy mozna rychle vyhledavani udelame jinak, nebo zjistime, ze neni potreba, chce moc pameti...\n",
    "        # Protoze o tomto slovniku vi pouze metody v teto tride, muzeme ho snadno odstranit, aniz by to nekoho mrzelo.\n",
    "        # Take dokumentace je lepsi, pokud neobsahuje zbytecne detaily, ale jen to, co uzivatele zajima -\n",
    "        # v nasem pripade uzivatele zajima jak ma pouzivat Linka.najdi_trasu(), jak to funguje vevnitr je podruzne.\n",
    "        \n",
    "        # Seznam self.zastavky nema jmeno s podtrzitkem a je zdokumentovan, takze ocekavame, ze do nej\n",
    "        # budou uzivatele sami koukat. (V Pythonu neni zvykem uplne vse balit do metod typu get_zastavky() jako v Jave.)\n",
    "\n",
    "    # Metoda s podtrzitkem, nase pomocna vec, neocekavame, ze by ji mel volat nekdo \"zvenci\".\n",
    "    def _zapamatuj_trasu(self, nastup, vystup, trasa):\n",
    "        \"\"\"Uloz trasu do cache\"\"\"\n",
    "        # cache vypada jako {(\"nastup\", \"vystup\"): [\"nastup\", \"mezistanice\", \"vystup\"], ...}\n",
    "        self._cache_pro_trasy[(nastup, vystup)] = trasa\n",
    "    \n",
    "    def _najdi_zapamatovanou_trasu(self, nastup, vystup):\n",
    "        \"\"\"Vrat trasu z cache, jinak None\"\"\"\n",
    "        if (nastup, vystup) in self._cache_pro_trasy:\n",
    "            return self._cache_pro_trasy[(nastup, vystup)]\n",
    "        else:\n",
    "            return None\n",
    "    \n",
    "    # metoda delka() se podedi z tridy Linka, neni potreba ji menit\n",
    "    \n",
    "    def najdi_trasu(self, nastup, vystup):\n",
    "        # mame uz trasu v cache?\n",
    "        zapamatovana_trasa = self._najdi_zapamatovanou_trasu(nastup, vystup)\n",
    "        if zapamatovana_trasa is not None:\n",
    "            return zapamatovana_trasa\n",
    "        \n",
    "        # zjistime trasu pomoci normalni metody, kterou uz mame hotovou ve tride Linka\n",
    "        trasa = super().najdi_trasu(nastup, vystup)  # volani metody Linka.najdi_trasu() se stejnym \"self\"\n",
    "        \n",
    "        # ulozime vysledek do cache\n",
    "        self._zapamatuj_trasu(nastup, vystup, trasa)\n",
    "        return trasa\n",
    "\n",
    "\n",
    "    \n",
    "linka_tram_1 = Linka(TRAM_1)\n",
    "rychla_linka_tram_1 = LinkaRychla(TRAM_1)\n",
    "\n",
    "%timeit linka_tram_1.najdi_trasu(\"Větrník\", \"Sídliště Petřiny\")\n",
    "%timeit rychla_linka_tram_1.najdi_trasu(\"Větrník\", \"Sídliště Petřiny\")"
   ]
  }
 ],
 "metadata": {
  "kernelspec": {
   "display_name": "Python 3",
   "language": "python",
   "name": "python3"
  },
  "language_info": {
   "codemirror_mode": {
    "name": "ipython",
    "version": 3
   },
   "file_extension": ".py",
   "mimetype": "text/x-python",
   "name": "python",
   "nbconvert_exporter": "python",
   "pygments_lexer": "ipython3",
   "version": "3.4.3"
  }
 },
 "nbformat": 4,
 "nbformat_minor": 0
}
