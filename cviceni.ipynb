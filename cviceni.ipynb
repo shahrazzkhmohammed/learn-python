{
 "cells": [
  {
   "cell_type": "markdown",
   "metadata": {},
   "source": [
    "# Python – cvičení"
   ]
  },
  {
   "cell_type": "code",
   "execution_count": null,
   "metadata": {
    "collapsed": true
   },
   "outputs": [],
   "source": [
    "def typ_matice(m):\n",
    "    \"\"\"vraci string popisujici typ matice anebo hazi ValueError pokud neni vstup obdelnikovy list-of-lists\"\"\"\n",
    "    pass\n",
    "\n",
    "\n",
    "assert typ_matice([[1,0],[0,1]]) == \"diagonalni\"\n",
    "assert typ_matice([[1,1],[0,1]]) == \"horni trojuhelnikova\"\n",
    "assert typ_matice([[1,0],[1,1]]) == \"dolni trojuhelnikova\"\n",
    "assert typ_matice([[1,1],[1,1]]) == \"ctvercova\"\n",
    "assert typ_matice([[1,1,2],[1,1,2]]) == \"obdelnikova\"\n",
    "\n",
    "try:\n",
    "    typ_matice([[1],[1,2]])\n",
    "    assert False\n",
    "except ValueError:\n",
    "    pass"
   ]
  },
  {
   "cell_type": "code",
   "execution_count": null,
   "metadata": {
    "collapsed": true
   },
   "outputs": [],
   "source": [
    "def parita(n):\n",
    "    \"\"\"vraci 0 pokud je pocet 1-bitu v n sudy, 1 pokud lichy\"\"\"\n",
    "    pass\n",
    "\n",
    "\n",
    "assert parita(0b0) == 0\n",
    "assert parita(0b1) == 1\n",
    "assert parita(0b100) == 1\n",
    "assert parita(0b101) == 0\n",
    "assert parita(0b111) == 1"
   ]
  },
  {
   "cell_type": "code",
   "execution_count": null,
   "metadata": {
    "collapsed": true
   },
   "outputs": [],
   "source": [
    "class Kruh:\n",
    "    pass\n",
    "\n",
    "\n",
    "k1 = Kruh(x=0, y=0, r=5)\n",
    "k2 = Kruh(x=2, y=2, r=1)\n",
    "k3 = Kruh(x=0, y=5, r=2)\n",
    "\n",
    "assert k1.x == 0 and k1.y == 0 and k1.r == 5\n",
    "assert k2.je_uvnitr(k1) is True\n",
    "assert k1.je_uvnitr(k2) is False\n",
    "assert k1.je_uvnitr(k3) is False\n",
    "assert k3.je_uvnitr(k1) is False\n",
    "assert k1.ma_prunik_s(k3) is True\n",
    "assert k3.ma_prunik_s(k1) is True"
   ]
  },
  {
   "cell_type": "code",
   "execution_count": null,
   "metadata": {
    "collapsed": true
   },
   "outputs": [],
   "source": [
    "def get_modus(arr):\n",
    "    \"\"\"vraci mnozinu prvku, ktere maji maximalni pocet vyskytu v seznamu, nebo prazdnou mnozinu\"\"\"\n",
    "    pass\n",
    "\n",
    "\n",
    "assert get_modus([1,1,2]) == set([1])\n",
    "assert get_modus([\"ano\", \"ano\", \"ne\"]) == set([\"ano\"])\n",
    "assert get_modus([1,1,2,2]) == set([1,2])\n",
    "assert get_modus([]) == set()"
   ]
  },
  {
   "cell_type": "code",
   "execution_count": null,
   "metadata": {
    "collapsed": true
   },
   "outputs": [],
   "source": [
    "def insert_with_min_difference(arr, x):\n",
    "    \"\"\"\n",
    "    arr == [a1, a2, ..., an]\n",
    "    \n",
    "    insert_with_min_difference(arr, x) == [a1, x, a2, ..., an] tak, ze:\n",
    "    1. |a1-x| + |x-a2| + |a2-a3| + ... + |an_1 - an| je minimialni\n",
    "    2. x je co nejvice vlevo, pokud je moznych vice pozic\n",
    "    \"\"\"\n",
    "    pass\n",
    "\n",
    "\n",
    "assert insert_with_min_difference([], 1) == [1]\n",
    "assert insert_with_min_difference([1], 2) == [2, 1]\n",
    "assert insert_with_min_difference([1,3,4], 2) == [1, 2, 3, 4]\n",
    "assert insert_with_min_difference([0,1,0,2,0,3], 2) == [0,1,0,2,2,0,3]"
   ]
  },
  {
   "cell_type": "code",
   "execution_count": null,
   "metadata": {
    "collapsed": true
   },
   "outputs": [],
   "source": [
    "def hamming_distance(w1, w2):\n",
    "    \"\"\"pocet znaku, kde se w1,2 lisi, pripadne ValueError pokud jsou jinak dlouhe\"\"\"\n",
    "    pass\n",
    "\n",
    "\n",
    "assert hamming_distance(\"ahoj\", \"alej\") == 2\n",
    "assert hamming_distance(\"kop\", \"kos\") == 1\n",
    "assert hamming_distance(\"aha\", \"aha\") == 0\n",
    "try:\n",
    "    hamming_distance(\"ahoj\", \"svete\")\n",
    "    assert False\n",
    "except ValueError:\n",
    "    pass"
   ]
  },
  {
   "cell_type": "code",
   "execution_count": null,
   "metadata": {
    "collapsed": true
   },
   "outputs": [],
   "source": [
    "def rle(data):\n",
    "    pass\n",
    "\n",
    "def decode_rle(runs):\n",
    "    pass\n",
    "\n",
    "\n",
    "assert rle(\"aaccctttggaaagtt\") == [(\"a\", 2), (\"c\", 3), (\"t\", 3), (\"g\", 2), (\"a\", 3), (\"g\", 1), (\"t\", 2)]\n",
    "assert decode_rle([(\"a\", 2), (\"c\", 3), (\"t\", 3), (\"g\", 2),\n",
    "                   (\"a\", 3), (\"g\", 1), (\"t\", 2)]) == list(\"aaccctttggaaagtt\")\n",
    "\n",
    "if False:\n",
    "    slovo = input(\"> \")\n",
    "    runs = rle(slovo)\n",
    "    print(runs)\n",
    "    slovo2 = decode_rle(runs)\n",
    "    print(\"\".join(slovo2))"
   ]
  },
  {
   "cell_type": "code",
   "execution_count": null,
   "metadata": {
    "collapsed": true
   },
   "outputs": [],
   "source": [
    "def get_max(arr):\n",
    "    \"\"\"vraci index nejlevejsiho maximalniho prvku nebo hazi ValueError\"\"\"\n",
    "    pass\n",
    "\n",
    "def get_max_rightmost(arr):\n",
    "    pass\n",
    "\n",
    "\n",
    "assert get_max([1,2,3]) == 2\n",
    "assert get_max([3,2,3]) == 0\n",
    "assert get_max_rightmost([1,2,3]) == 2\n",
    "assert get_max_rightmost([3,2,3]) == 2\n",
    "assert get_max_rightmost([3,2,1]) == 0\n",
    "try:\n",
    "    get_max([])\n",
    "    assert False\n",
    "except ValueError:\n",
    "    pass"
   ]
  },
  {
   "cell_type": "code",
   "execution_count": null,
   "metadata": {
    "collapsed": true
   },
   "outputs": [],
   "source": [
    "def odstran(arr, i):\n",
    "    pass\n",
    "\n",
    "def odstran_vsechny(arr, indexy):\n",
    "    pass\n",
    "\n",
    "\n",
    "assert odstran([1,2,3], 0) == [2,3]\n",
    "assert odstran([1,2,3], 1) == [1,3]\n",
    "assert odstran([1,2,3], 2) == [1,2]\n",
    "assert odstran_vsechny([1,2,3], [2,0]) == [2]\n",
    "assert odstran([1], 0) == []\n",
    "try:\n",
    "    odstran([], 0)\n",
    "    assert False\n",
    "except ValueError:\n",
    "    pass\n",
    "try:\n",
    "    odstran([1], 9001)\n",
    "    assert False\n",
    "except ValueError:\n",
    "    pass"
   ]
  },
  {
   "cell_type": "code",
   "execution_count": null,
   "metadata": {
    "collapsed": true
   },
   "outputs": [],
   "source": [
    "class Lednicka:\n",
    "    def __init__(self):\n",
    "        self.obsah = {}\n",
    "\n",
    "    def pridej_jidlo(self, nazev, pocet, dni_do_data_spotreby):\n",
    "        if nazev not in self.obsah:\n",
    "            self.obsah[nazev] = []\n",
    "\n",
    "        self.obsah[nazev].append((pocet, dni_do_data_spotreby))\n",
    "\n",
    "    def snez_jidlo(self, nazev, kolik_chci_snist):\n",
    "        self.obsah[nazev].sort(key=vrat_druhe, reverse=True)\n",
    "        while kolik_chci_snist > 0:\n",
    "            pocet, dni_do_data_spotreby = self.obsah[nazev].pop()\n",
    "\n",
    "            if kolik_chci_snist >= pocet:\n",
    "                kolik_chci_snist -= pocet\n",
    "            else:\n",
    "                self.obsah[nazev].append((pocet-kolik_chci_snist, dni_do_data_spotreby))\n",
    "\n",
    "    def kolik_zbyva(self, nazev):\n",
    "        soucet = 0\n",
    "        zasoby = self.obsah[nazev]\n",
    "        for pocet, dni_do_data_spotreby in zasoby:\n",
    "            soucet += pocet\n",
    "\n",
    "        return soucet\n",
    "\n",
    "    def posun_cas(self, pocet_dni):\n",
    "        novy_obsah = {}\n",
    "        for nazev in self.obsah:\n",
    "            zasoby = self.obsah[nazev]\n",
    "            nove_zasoby = []\n",
    "            for pocet, dni_do_data_spotreby in zasoby:\n",
    "                nova_trvanlivost = dni_do_data_spotreby - pocet_dni\n",
    "                if nova_trvanlivost > 0:\n",
    "                    nove_zasoby.append((pocet, nova_trvanlivost))\n",
    "\n",
    "            novy_obsah[nazev] = nove_zasoby\n",
    "\n",
    "        self.obsah = novy_obsah\n",
    "\n",
    "\n",
    "led = Lednicka()\n",
    "led.pridej_jidlo(\"rohlik\", 1, 2)\n",
    "led.pridej_jidlo(\"rohlik\", 1, 1)\n",
    "print(led.obsah)\n",
    "print(led.kolik_zbyva(\"rohlik\"))\n",
    "led.snez_jidlo(\"rohlik\", 1)\n",
    "print(led.kolik_zbyva(\"rohlik\"))\n",
    "led.posun_cas(14)\n",
    "print(led.kolik_zbyva(\"rohlik\"))\n",
    "led.pridej_jidlo(\"jogurt\", 1, 1)\n",
    "led.pridej_jidlo(\"jogurt\", 1, 10)\n",
    "led.snez_jidlo(\"jogurt\", 1)\n",
    "led.posun_cas(7)\n",
    "print(led.kolik_zbyva(\"jogurt\"))"
   ]
  }
 ],
 "metadata": {
  "kernelspec": {
   "display_name": "Python 3",
   "language": "python",
   "name": "python3"
  },
  "language_info": {
   "codemirror_mode": {
    "name": "ipython",
    "version": 3
   },
   "file_extension": ".py",
   "mimetype": "text/x-python",
   "name": "python",
   "nbconvert_exporter": "python",
   "pygments_lexer": "ipython3",
   "version": "3.5.0"
  }
 },
 "nbformat": 4,
 "nbformat_minor": 0
}
