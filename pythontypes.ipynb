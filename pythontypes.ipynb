{
 "metadata": {
  "name": "",
  "signature": "sha256:55f81e1442c144f366f92b2404f843cbd750e122c08e60c3e0b98e00fa9bc082"
 },
 "nbformat": 3,
 "nbformat_minor": 0,
 "worksheets": [
  {
   "cells": [
    {
     "cell_type": "markdown",
     "metadata": {},
     "source": [
      "# Python aneb v\u0161echno je objekt\n",
      "\n",
      "Reference: <https://docs.python.org/3/reference/datamodel.html>\n",
      "\n",
      "## Objektov\u00e9 programov\u00e1n\u00ed (OOP)\n",
      "\n",
      "P\u016fvod: 70. l\u00e9ta, Xerox PARC, v\u00fdvoj grafick\u00e9ho rozhran\u00ed (GUI), jazyk Smalltalk.\n",
      "\n",
      "- __objekt__ = data + funkce, kter\u00e9 s nimi pracuj\u00ed\n",
      "- __t\u0159\u00edda (class)__ = p\u0159edpis, jak vypadaj\u00ed objekty jednoho druhu\n",
      "- __konstruktor__ = speci\u00e1ln\u00ed funkce ve t\u0159\u00edd\u011b, kter\u00e1 vytv\u00e1\u0159\u00ed/inicializuje objekt\n",
      "- __metoda__ = funkce, kter\u00e1 pracuje v kontextu jednoho konkr\u00e9tn\u00edho objektu (objekt se jmenuje `this`, `self` apod.)\n",
      "- __instance__ = jeden objekt (\"instance t\u0159\u00eddy\")\n",
      "- __atribut__ = jedna datov\u00e1 polo\u017eka v objektu\n",
      "- __polymorfismus__ = objekty se daj\u00ed ur\u010dit\u00fdm zp\u016fsobem zam\u011b\u0148ovat (proto\u017ee maj\u00ed podobn\u00e9 rozhran\u00ed, nap\u0159. geometrick\u00e9 \u00fatvary asi um\u00ed spo\u010d\u00edtat svou plochu)\n",
      "\n",
      "\n",
      "\n",
      "- __v\u00fdjimka (exception)__ = objekt s chybovou hl\u00e1\u0161kou, p\u0159eru\u0161uje vykon\u00e1v\u00e1n\u00ed programu\n",
      "- __rozhran\u00ed (interface)__ = soubor metod, kter\u00e9 m\u016f\u017ee m\u00edt n\u011bjak\u00e1 t\u0159\u00edda\n",
      "- __serializace__ = ukl\u00e1d\u00e1n\u00ed objektu do textov\u00e9 podoby, do SQL datab\u00e1ze (ORM = object-relational mapper) apod.\n",
      "- __d\u011bd\u011bn\u00ed (inheritance)__ = jedna t\u0159\u00edda m\u016f\u017ee b\u00fdt specializac\u00ed (podt\u0159\u00eddou) jin\u00e9\n",
      "- __reflexe__ = dotazov\u00e1n\u00ed se objektu, co je za\u010d, jak\u00e9 m\u00e1 metody apod.\n",
      "- __getter, setter__ = metody pro p\u0159\u00edstup k priv\u00e1tn\u00edm atribut\u016fm (nap\u0159. kv\u016fli validaci; v Pythonu: v\u0161e ve\u0159ejn\u00e9, l\u00e9pe pou\u017e\u00edt `property`)\n",
      "\n",
      "\n",
      "\n",
      "- __UML__ = diagramy pou\u017e\u00edvan\u00e9 p\u0159i v\u00fdvoji SW. __UML Class Diagram__, p\u0159ehled t\u0159\u00edd v programu. Obd\u00e9ln\u00ed\u010dky a vazby.\n",
      "\n",
      "P\u016fvodn\u00ed pojet\u00ed: \"v\u0161echno je objekt\", \u010dili n\u011bco, co se d\u00e1 ulo\u017eit do prom\u011bnn\u00e9 a n\u011bjak s t\u00edm pracovat. Smalltalk p\u0159ipom\u00edn\u00e1 \u017eiv\u00fd organismus.\n",
      "\n",
      "Pojet\u00ed v Pythonu: pragmatick\u00e9, ale hodn\u011b v\u011bc\u00ed je objekt (\u010d\u00edsla, stringy, ale i funkce, t\u0159\u00eddy, moduly). Snadno si m\u016f\u017eeme nap\u0159. nav\u011bsit na objekt atributy, kter\u00e9 tam p\u016fvodn\u011b nebyly, a d\u011blat jin\u00e9 divokosti (a\u010d kultura Pythonu je obecn\u011b proti).\n",
      "\n",
      "## P\u0159\u00edklad"
     ]
    },
    {
     "cell_type": "code",
     "collapsed": false,
     "input": [
      "import math\n",
      "\n",
      "\n",
      "class Kruh:\n",
      "    \"Toto je t\u0159\u00edda pro kruhy\"\n",
      "    def __init__(self, x, y, r):\n",
      "        \"Toto je konstruktor, jako self je p\u0159ed\u00e1n u\u017e vytvo\u0159en\u00fd, zat\u00edm pr\u00e1zdn\u00fd objekt\"\n",
      "        self.x = x # toto je atribut\n",
      "        self.y = y\n",
      "        self.r = r\n",
      "    \n",
      "    def obsah(self):\n",
      "        \"Toto je metoda\"\n",
      "        return math.pi * self.r**2  # p\u0159i p\u0159\u00edstupu k atribut\u016fm je v\u017edy pot\u0159eba explicitn\u00ed \"self.\"\n",
      "    \n",
      "    def ma_prunik(self, kruh):\n",
      "        \"Toto je metoda\"\n",
      "        vzdalenost = math.sqrt((self.x - kruh.x)**2 + (self.y - kruh.y)**2)\n",
      "        return vzdalenost < self.r + kruh.r\n",
      "    \n",
      "    def __eq__(self, kruh):\n",
      "        \"Toto je specialni metoda, ktera realizuje ==\"\n",
      "        return (self.x, self.y, self.r) == (kruh.x, kruh.y, kruh.r)\n",
      "    \n",
      "    def __neq__(self, kruh):\n",
      "        \"Toto je specialni metoda, ktera realizuje !=\"\n",
      "        return not (self == kruh)\n",
      "    \n",
      "    def __repr__(self):\n",
      "        \"Toto je specialni metoda, ktera upravuje vypis do konzole\"\n",
      "        return \"Kruh({x}, {y}, {r})\".format(x=self.x, y=self.y, r=self.r)\n",
      "\n",
      "\n",
      "k1 = Kruh(0,0,1)\n",
      "k2 = Kruh(0,1,2)\n",
      "k3 = Kruh(0,2,1)\n",
      "\n",
      "print(\"k1 je\", k1) # __repr__\n",
      "print(\"k1 ma stred na souradnicich\", k1.x, k1.y)\n",
      "print(\"obsah k1 je\", k1.obsah())\n",
      "print(\"k1,k2 maji prunik?\", k1.ma_prunik(k2))\n",
      "print(\"k1,k3 maji prunik?\", k1.ma_prunik(k3))\n",
      "print(\"je k1 instance Kruhu?\", isinstance(k1, Kruh))"
     ],
     "language": "python",
     "metadata": {},
     "outputs": [
      {
       "output_type": "stream",
       "stream": "stdout",
       "text": [
        "k1 je Kruh(0, 0, 1)\n",
        "k1 ma stred na souradnicich 0 0\n",
        "obsah k1 je 3.141592653589793\n",
        "k1,k2 maji prunik? True\n",
        "k1,k3 maji prunik? False\n",
        "je k1 instance Kruhu? True\n"
       ]
      }
     ],
     "prompt_number": 48
    },
    {
     "cell_type": "code",
     "collapsed": false,
     "input": [
      "# metoda je funkce ulo\u017een\u00e1 ve t\u0159\u00edd\u011b, jen m\u00e1 p\u0159edvypln\u011bn\u00fd prvn\u00ed parametr \"self\"\n",
      "\n",
      "assert k1.obsah() == Kruh.obsah(k1)\n",
      "assert k1.ma_prunik(k2) == Kruh.ma_prunik(k1, k2)"
     ],
     "language": "python",
     "metadata": {},
     "outputs": [],
     "prompt_number": 49
    },
    {
     "cell_type": "code",
     "collapsed": false,
     "input": [
      "# oper\u00e1tor \"is\" porov\u00e1v\u00e1, jestli dv\u011b prom\u011bnn\u00e9 odkazuj\u00ed na tent\u00fd\u017e objekt\n",
      "# oper\u00e1tor \"==\" je logick\u00e1 ekvivalence, kter\u00e1 se d\u00e1 dodefinovat podle pot\u0159eby (jinak se chov\u00e1 jako \"is\")\n",
      "\n",
      "print(k1)\n",
      "print(k1 is k1)\n",
      "print(k1 == k1)\n",
      "print(k1 is Kruh(0,0,1))  # zde se vytvari novy kruh, ktery se hned potom zahodi\n",
      "print(k1 == Kruh(0,0,1))  # __eq__"
     ],
     "language": "python",
     "metadata": {},
     "outputs": [
      {
       "output_type": "stream",
       "stream": "stdout",
       "text": [
        "Kruh(0, 0, 1)\n",
        "True\n",
        "True\n",
        "False\n",
        "True\n"
       ]
      }
     ],
     "prompt_number": 50
    },
    {
     "cell_type": "markdown",
     "metadata": {},
     "source": [
      "## Implemetace\n",
      "\n",
      "Ka\u017ed\u00fd objekt m\u00e1 sv\u00e1 data ulo\u017eena ve slovn\u00edku s \"magick\u00fdm\" n\u00e1zvem `__dict__`. Ale tak by se k nim nem\u011blo p\u0159istupovat."
     ]
    },
    {
     "cell_type": "code",
     "collapsed": false,
     "input": [
      "k1.__dict__"
     ],
     "language": "python",
     "metadata": {},
     "outputs": [
      {
       "metadata": {},
       "output_type": "pyout",
       "prompt_number": 51,
       "text": [
        "{'y': 0, 'x': 0, 'r': 1}"
       ]
      }
     ],
     "prompt_number": 51
    },
    {
     "cell_type": "markdown",
     "metadata": {},
     "source": [
      "K vyps\u00e1n\u00ed v\u0161eho, k \u010demu lze p\u0159istoupit jako `objekt.n\u011bco`, slou\u017e\u00ed funkce `dir()`. Je zde hodn\u011b \"magick\u00fdch metod\" s podtr\u017e\u00edtky, kter\u00e9 maj\u00ed zvl\u00e1\u0161tn\u00ed v\u00fdznam."
     ]
    },
    {
     "cell_type": "code",
     "collapsed": false,
     "input": [
      "dir(k1)"
     ],
     "language": "python",
     "metadata": {},
     "outputs": [
      {
       "metadata": {},
       "output_type": "pyout",
       "prompt_number": 52,
       "text": [
        "['__class__',\n",
        " '__delattr__',\n",
        " '__dict__',\n",
        " '__dir__',\n",
        " '__doc__',\n",
        " '__eq__',\n",
        " '__format__',\n",
        " '__ge__',\n",
        " '__getattribute__',\n",
        " '__gt__',\n",
        " '__hash__',\n",
        " '__init__',\n",
        " '__le__',\n",
        " '__lt__',\n",
        " '__module__',\n",
        " '__ne__',\n",
        " '__neq__',\n",
        " '__new__',\n",
        " '__reduce__',\n",
        " '__reduce_ex__',\n",
        " '__repr__',\n",
        " '__setattr__',\n",
        " '__sizeof__',\n",
        " '__str__',\n",
        " '__subclasshook__',\n",
        " '__weakref__',\n",
        " 'ma_prunik',\n",
        " 'obsah',\n",
        " 'r',\n",
        " 'x',\n",
        " 'y']"
       ]
      }
     ],
     "prompt_number": 52
    },
    {
     "cell_type": "markdown",
     "metadata": {},
     "source": [
      "## N\u011bkter\u00e9 rysy OOP v Pythonu\n",
      "\n",
      "### \"Duck Typing\"\n",
      "\n",
      "> Kdy\u017e to chod\u00ed jako kachna a kv\u00e1k\u00e1 jako kachna, je to kachna.\n",
      "\n",
      "Podstatn\u00e9 je, co objekt um\u00ed, ne odkud p\u0159i\u0161el (jak\u00e1 je jeho t\u0159\u00edda).\n",
      "\n",
      "\u010casto se v dokumentaci do\u010dteme, \u017ee se n\u011bkam m\u00e1 p\u0159edat \"sequence\", \"list-like object\", \"file-like object\" a podobn\u011b.\n",
      "\n",
      "- Seznam nebo slovn\u00edk se chov\u00e1 pro \u00fa\u010dely for-cyklu jako sekvence. Ale textov\u00fd soubor tak\u00e9: vrac\u00ed jednotliv\u00e9 \u0159\u00e1dky.\n",
      "- `io.StringIO` je t\u0159\u00edda, kter\u00e1 se chov\u00e1 jako soubor, ale na pozad\u00ed pou\u017e\u00edv\u00e1 string v pam\u011bti.\n",
      "\n",
      "Proto opatrn\u011b s pou\u017e\u00edv\u00e1n\u00edm `isinstance()`, to je opa\u010dn\u00fd p\u0159\u00edstup.\n",
      "\n",
      "### Public vs. Private\n",
      "\n",
      "Technicky vzato jsou v\u0161echny metody a atributy \"public\" \u010dili ve\u0159ejn\u00e9.\n",
      "\n",
      "M\u00edsta, do kter\u00fdch by nepovolan\u00ed nem\u011bli vrtat, se ozna\u010duj\u00ed tak, \u017ee n\u00e1zev za\u010d\u00edn\u00e1 podtr\u017e\u00edtkem."
     ]
    }
   ],
   "metadata": {}
  }
 ]
}