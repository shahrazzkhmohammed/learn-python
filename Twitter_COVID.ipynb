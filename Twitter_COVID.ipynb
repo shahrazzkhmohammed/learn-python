{
  "nbformat": 4,
  "nbformat_minor": 0,
  "metadata": {
    "colab": {
      "name": "Twitter_COVID.ipynb",
      "provenance": [],
      "collapsed_sections": [],
      "include_colab_link": true
    },
    "kernelspec": {
      "name": "python3",
      "display_name": "Python 3"
    },
    "language_info": {
      "name": "python"
    }
  },
  "cells": [
    {
      "cell_type": "markdown",
      "metadata": {
        "id": "view-in-github",
        "colab_type": "text"
      },
      "source": [
        "<a href=\"https://colab.research.google.com/github/shahrazzkhmohammed/learn-python/blob/master/Twitter_COVID.ipynb\" target=\"_parent\"><img src=\"https://colab.research.google.com/assets/colab-badge.svg\" alt=\"Open In Colab\"/></a>"
      ]
    },
    {
      "cell_type": "markdown",
      "metadata": {
        "id": "vj7gGcaECBly"
      },
      "source": [
        "# ***DOWNLOADING COVID BEDS DATA***"
      ]
    },
    {
      "cell_type": "code",
      "metadata": {
        "id": "1kQCMJVcCllV"
      },
      "source": [
        "import urllib.request as urllib2\n",
        "import json\n",
        "\n",
        "def urltojson(url):\n",
        "  apis_page = urllib2.urlopen(url).read()\n",
        "  apis_data = json.loads(apis_page)\n",
        "  return apis_data"
      ],
      "execution_count": null,
      "outputs": []
    },
    {
      "cell_type": "code",
      "metadata": {
        "id": "Qp1TCzTA9_q9"
      },
      "source": [
        "andhrapradesh_data = urltojson('https://covidaps.com/data/covidaps.com/bed_data.json')"
      ],
      "execution_count": null,
      "outputs": []
    },
    {
      "cell_type": "code",
      "metadata": {
        "id": "dvDyTKZEDf2w"
      },
      "source": [
        "bengaluru_data = urltojson('https://covidbengaluru.com/data/covidbengaluru.com/bed_data.json')"
      ],
      "execution_count": null,
      "outputs": []
    },
    {
      "cell_type": "code",
      "metadata": {
        "id": "VGLSSkMUDz_j"
      },
      "source": [
        "delhi_data = urltojson('https://coviddelhi.com/data/coviddelhi.com/bed_data.json')"
      ],
      "execution_count": null,
      "outputs": []
    },
    {
      "cell_type": "code",
      "metadata": {
        "id": "qiMP33oPLdxU"
      },
      "source": [
        "mp_data = urltojson('https://covidmp.com/data/covidmp.com/bed_data.json') #MadhyaPradesh"
      ],
      "execution_count": null,
      "outputs": []
    },
    {
      "cell_type": "code",
      "metadata": {
        "id": "F5CiE0oRM4jm"
      },
      "source": [
        "tn_data = urltojson('https://covidtnadu.com/data/covidtnadu.com/bed_data.json') #TamilNadu"
      ],
      "execution_count": null,
      "outputs": []
    },
    {
      "cell_type": "code",
      "metadata": {
        "id": "PRBs_BGlNP76"
      },
      "source": [
        "telangana_data = urltojson('https://covidtelangana.com/data/covidtelangana.com/bed_data.json')"
      ],
      "execution_count": null,
      "outputs": []
    },
    {
      "cell_type": "code",
      "metadata": {
        "id": "s0EF0onvOCZW"
      },
      "source": [
        "wb_data = urltojson('https://covidwb.com/data/covidwb.com/bed_data.json') #WestBengal"
      ],
      "execution_count": null,
      "outputs": []
    },
    {
      "cell_type": "code",
      "metadata": {
        "id": "ooCwaibBQPoS"
      },
      "source": [
        "pune_data = urltojson('https://covidpune.com/data/covidpune.com/bed_data.json')"
      ],
      "execution_count": null,
      "outputs": []
    },
    {
      "cell_type": "code",
      "metadata": {
        "colab": {
          "base_uri": "https://localhost:8080/"
        },
        "id": "vyo4-v2TQVgL",
        "outputId": "3a938049-a7c2-40ff-fc4f-5cea7ead0922"
      },
      "source": [
        "print(type(pune_data[0]))"
      ],
      "execution_count": null,
      "outputs": [
        {
          "output_type": "stream",
          "text": [
            "<class 'dict'>\n"
          ],
          "name": "stdout"
        }
      ]
    },
    {
      "cell_type": "code",
      "metadata": {
        "id": "1DvGm6twUbkP",
        "colab": {
          "base_uri": "https://localhost:8080/"
        },
        "outputId": "e0c790cb-5e61-4348-e1c0-51ea44320c83"
      },
      "source": [
        "import pandas as pd \n",
        "\n",
        "#Combined DataFrame \n",
        "\n",
        "delhi_df = pd.DataFrame(delhi_data) \n",
        "ap_df = pd.DataFrame(andhrapradesh_data)\n",
        "bengaluru_df = pd.DataFrame(bengaluru_data)\n",
        "mp_df = pd.DataFrame(mp_data)\n",
        "tn_df = pd.DataFrame(tn_data)\n",
        "telangana_df = pd.DataFrame(telangana_data)\n",
        "wb_df = pd.DataFrame(wb_data)\n",
        "pune_df = pd.DataFrame(pune_data)\n",
        "\n",
        "df = delhi_df.append(ap_df)\n",
        "df = df.append(bengaluru_df)\n",
        "df = df.append(mp_df)\n",
        "df = df.append(tn_df)\n",
        "df = df.append(telangana_df)\n",
        "df = df.append(wb_df)\n",
        "df = df.append(pune_df)\n",
        "\n",
        "len(df)"
      ],
      "execution_count": null,
      "outputs": [
        {
          "output_type": "execute_result",
          "data": {
            "text/plain": [
              "6172"
            ]
          },
          "metadata": {
            "tags": []
          },
          "execution_count": 14
        }
      ]
    },
    {
      "cell_type": "markdown",
      "metadata": {
        "id": "SlYbfjlPC-HW"
      },
      "source": [
        "# ***DOWNLOADING TWITTER DATA***"
      ]
    },
    {
      "cell_type": "code",
      "metadata": {
        "id": "MQ3fPCOEZvQT"
      },
      "source": [
        "import csv\n",
        "import tweepy\n",
        "import ssl\n",
        "ssl._create_default_https_context = ssl._create_unverified_context\n",
        "\n",
        "# Oauth keys\n",
        "consumer_key = \"HoyNKdklpaUat1XN0yKmfKfAO\"\n",
        "consumer_secret = \"ilCXESs9TmQPfcFx1TrYBZcQeuSM82zYIKHKxumncZOSrcHd5H\"\n",
        "access_token = \"1393922385783361545-oU1422i7I3jE3oiHtNhxwzNdSAzrfM\"\n",
        "access_token_secret = \"mqpQ2WfdPN2rdQhKMY8zjeAls6ezxtQHJ51Tsu0qgo799\"\n",
        "\n",
        "# Authentication with Twitter\n",
        "auth = tweepy.OAuthHandler(consumer_key, consumer_secret)\n",
        "auth.set_access_token(access_token, access_token_secret)\n",
        "api = tweepy.API(auth)"
      ],
      "execution_count": null,
      "outputs": []
    },
    {
      "cell_type": "code",
      "metadata": {
        "id": "RwNl3qYOjhts"
      },
      "source": [
        "#Getting tweets without retweets\n",
        "query1 = '#Covid19Indiahelp need bed in delhi -filter:retweets'\n",
        "query2 = '#Covid19IndiaHelp need bed in vizag -filter:retweets'\n",
        "query3 = '#Covid19IndiaHelp need bed in hyderabad -filter:retweets'\n",
        "query4 = '#Covid19IndiaHelp need bed in chennai -filter:retweets'\n",
        "query5 = '#Covid19IndiaHelp need bed in bangalore -filter:retweets'\n",
        "max_tweets = 100\n",
        "\n",
        "delhi_tweets = [status for status in tweepy.Cursor(api.search, q=query1).items(max_tweets)]\n",
        "vizag_tweets = [status for status in tweepy.Cursor(api.search, q=query2).items(max_tweets)]\n",
        "hyderabad_tweets = [status for status in tweepy.Cursor(api.search, q=query3).items(max_tweets)]\n",
        "chennai_tweets = [status for status in tweepy.Cursor(api.search, q=query4).items(max_tweets)]\n",
        "blr_tweets = [status for status in tweepy.Cursor(api.search, q=query5).items(max_tweets)]"
      ],
      "execution_count": null,
      "outputs": []
    },
    {
      "cell_type": "code",
      "metadata": {
        "colab": {
          "base_uri": "https://localhost:8080/"
        },
        "id": "LryQB4FrjpXT",
        "outputId": "c730a518-9171-44c7-de54-33e10cecb1fb"
      },
      "source": [
        "print(len(delhi_tweets))\n",
        "print(len(vizag_tweets))\n",
        "print(len(hyderabad_tweets))\n",
        "print(len(chennai_tweets))\n",
        "print(len(blr_tweets))"
      ],
      "execution_count": null,
      "outputs": [
        {
          "output_type": "stream",
          "text": [
            "5\n",
            "10\n",
            "7\n",
            "8\n",
            "3\n"
          ],
          "name": "stdout"
        }
      ]
    },
    {
      "cell_type": "code",
      "metadata": {
        "colab": {
          "base_uri": "https://localhost:8080/"
        },
        "id": "pg0P6O-krWrk",
        "outputId": "52e53c2f-933d-4a0a-c17d-907d39f6affd"
      },
      "source": [
        "searched_tweets = delhi_tweets + vizag_tweets + hyderabad_tweets + chennai_tweets\n",
        "len(searched_tweets)"
      ],
      "execution_count": null,
      "outputs": [
        {
          "output_type": "execute_result",
          "data": {
            "text/plain": [
              "30"
            ]
          },
          "metadata": {
            "tags": []
          },
          "execution_count": 18
        }
      ]
    },
    {
      "cell_type": "markdown",
      "metadata": {
        "id": "E_3HSVbc7va7"
      },
      "source": [
        "# ***PREPARING DF FOR TWEETS***"
      ]
    },
    {
      "cell_type": "code",
      "metadata": {
        "id": "y9vGV4ZbDF-X"
      },
      "source": [
        "#Converting the tweets data into a dictionary\n",
        "status = searched_tweets[0]\n",
        "json_str = json.dumps(status._json)\n",
        "d = json.loads(json_str) #dictionary"
      ],
      "execution_count": null,
      "outputs": []
    },
    {
      "cell_type": "code",
      "metadata": {
        "id": "TGHHpcoJwVxC",
        "colab": {
          "base_uri": "https://localhost:8080/"
        },
        "outputId": "e7d223ae-040b-4314-82ca-071aabd3a6f2"
      },
      "source": [
        "#function for getting keys from the dictionary\n",
        "def getkeys(dict):\n",
        "    list = []\n",
        "    for key in dict.keys():\n",
        "        list.append(key)\n",
        "          \n",
        "    return list\n",
        "\n",
        "#getting column names from dictionary\n",
        "keys = getkeys(d)\n",
        "print(len(keys))\n",
        "print(keys)"
      ],
      "execution_count": null,
      "outputs": [
        {
          "output_type": "stream",
          "text": [
            "24\n",
            "['created_at', 'id', 'id_str', 'text', 'truncated', 'entities', 'metadata', 'source', 'in_reply_to_status_id', 'in_reply_to_status_id_str', 'in_reply_to_user_id', 'in_reply_to_user_id_str', 'in_reply_to_screen_name', 'user', 'geo', 'coordinates', 'place', 'contributors', 'is_quote_status', 'retweet_count', 'favorite_count', 'favorited', 'retweeted', 'lang']\n"
          ],
          "name": "stdout"
        }
      ]
    },
    {
      "cell_type": "code",
      "metadata": {
        "id": "10gcVQUD8ZWz"
      },
      "source": [
        "#Creating an empty dataframe for the tweets data\n",
        "\n",
        "# t_df1 = pd.DataFrame(columns=[keys[0],keys[1],keys[2],keys[3],keys[4],keys[5],keys[6],keys[7],keys[8],keys[9],keys[10],keys[11],keys[12],keys[13],keys[14],keys[15],\n",
        "#                            keys[16],keys[17],keys[18],keys[19],keys[20],keys[21],keys[22],keys[23],keys[24]])\n",
        "\n",
        "t_df = pd.DataFrame(columns=[keys[0],keys[1],keys[2],keys[3],keys[4],keys[5],keys[6],keys[7],keys[8],keys[9],keys[10],keys[11],keys[12],keys[13],keys[14],keys[15],\n",
        "                           keys[16],keys[17],keys[18],keys[19],keys[20],keys[21],keys[22],keys[23]])"
      ],
      "execution_count": null,
      "outputs": []
    },
    {
      "cell_type": "code",
      "metadata": {
        "id": "ZehmTRqw8bmB"
      },
      "source": [
        "#Function for Getting data from the tweets dictionary\n",
        "def getvalues(dict):\n",
        "    list = []\n",
        "    for value in dict.values():\n",
        "        list.append(value)\n",
        "          \n",
        "    return list"
      ],
      "execution_count": null,
      "outputs": []
    },
    {
      "cell_type": "code",
      "metadata": {
        "id": "7ZmomutZ9QBJ",
        "colab": {
          "base_uri": "https://localhost:8080/",
          "height": 232
        },
        "outputId": "d73455ec-7194-450c-d273-92d8549e88d8"
      },
      "source": [
        "#Appending tweets data to the dataframe\n",
        "for i in range (0,len(searched_tweets)):\n",
        "  status = searched_tweets[i]\n",
        "  json_str = json.dumps(status._json)\n",
        "  d = json.loads(json_str)\n",
        "  values = getvalues(d)\n",
        "  if (len(values) == 24):\n",
        "    row = pd.Series(values, index = t_df1.columns)\n",
        "    t_df = t_df.append(row, ignore_index=True)\n",
        "\n",
        "#Getting unique tweets\n",
        "\"\"\"t_df = t_df1.drop_duplicates(['text'])\n",
        "t_df = t_df.reset_index(drop=True)    \"\"\"\n"
      ],
      "execution_count": null,
      "outputs": [
        {
          "output_type": "error",
          "ename": "NameError",
          "evalue": "ignored",
          "traceback": [
            "\u001b[0;31m---------------------------------------------------------------------------\u001b[0m",
            "\u001b[0;31mNameError\u001b[0m                                 Traceback (most recent call last)",
            "\u001b[0;32m<ipython-input-23-7ea8e45f0b8f>\u001b[0m in \u001b[0;36m<module>\u001b[0;34m()\u001b[0m\n\u001b[1;32m      6\u001b[0m   \u001b[0mvalues\u001b[0m \u001b[0;34m=\u001b[0m \u001b[0mgetvalues\u001b[0m\u001b[0;34m(\u001b[0m\u001b[0md\u001b[0m\u001b[0;34m)\u001b[0m\u001b[0;34m\u001b[0m\u001b[0;34m\u001b[0m\u001b[0m\n\u001b[1;32m      7\u001b[0m   \u001b[0;32mif\u001b[0m \u001b[0;34m(\u001b[0m\u001b[0mlen\u001b[0m\u001b[0;34m(\u001b[0m\u001b[0mvalues\u001b[0m\u001b[0;34m)\u001b[0m \u001b[0;34m==\u001b[0m \u001b[0;36m24\u001b[0m\u001b[0;34m)\u001b[0m\u001b[0;34m:\u001b[0m\u001b[0;34m\u001b[0m\u001b[0;34m\u001b[0m\u001b[0m\n\u001b[0;32m----> 8\u001b[0;31m     \u001b[0mrow\u001b[0m \u001b[0;34m=\u001b[0m \u001b[0mpd\u001b[0m\u001b[0;34m.\u001b[0m\u001b[0mSeries\u001b[0m\u001b[0;34m(\u001b[0m\u001b[0mvalues\u001b[0m\u001b[0;34m,\u001b[0m \u001b[0mindex\u001b[0m \u001b[0;34m=\u001b[0m \u001b[0mt_df1\u001b[0m\u001b[0;34m.\u001b[0m\u001b[0mcolumns\u001b[0m\u001b[0;34m)\u001b[0m\u001b[0;34m\u001b[0m\u001b[0;34m\u001b[0m\u001b[0m\n\u001b[0m\u001b[1;32m      9\u001b[0m     \u001b[0mt_df\u001b[0m \u001b[0;34m=\u001b[0m \u001b[0mt_df\u001b[0m\u001b[0;34m.\u001b[0m\u001b[0mappend\u001b[0m\u001b[0;34m(\u001b[0m\u001b[0mrow\u001b[0m\u001b[0;34m,\u001b[0m \u001b[0mignore_index\u001b[0m\u001b[0;34m=\u001b[0m\u001b[0;32mTrue\u001b[0m\u001b[0;34m)\u001b[0m\u001b[0;34m\u001b[0m\u001b[0;34m\u001b[0m\u001b[0m\n\u001b[1;32m     10\u001b[0m \u001b[0;34m\u001b[0m\u001b[0m\n",
            "\u001b[0;31mNameError\u001b[0m: name 't_df1' is not defined"
          ]
        }
      ]
    },
    {
      "cell_type": "code",
      "metadata": {
        "id": "pcv1LamCPnOb"
      },
      "source": [
        "#t_df1 #tweets dataframe with duplicate tweets from retweets"
      ],
      "execution_count": null,
      "outputs": []
    },
    {
      "cell_type": "code",
      "metadata": {
        "id": "fd-O_VCK_Sjw"
      },
      "source": [
        "t_df#tweets dataframe "
      ],
      "execution_count": null,
      "outputs": []
    },
    {
      "cell_type": "code",
      "metadata": {
        "id": "9TPt3eELs2vN"
      },
      "source": [
        "#List of tweets text\n",
        "tweetsList = t_df['text'].tolist()\n",
        "#tweetsList"
      ],
      "execution_count": null,
      "outputs": []
    },
    {
      "cell_type": "code",
      "metadata": {
        "id": "rxNAVMZLiabU"
      },
      "source": [
        "#List of tweet dates\n",
        "tweet_date_list = t_df['created_at'].tolist()\n",
        "#tweet_date_list"
      ],
      "execution_count": null,
      "outputs": []
    },
    {
      "cell_type": "code",
      "metadata": {
        "id": "ADu1z6Kmi2Jb"
      },
      "source": [
        "for i in range(0, len(t_df)):\n",
        "  "
      ],
      "execution_count": null,
      "outputs": []
    },
    {
      "cell_type": "markdown",
      "metadata": {
        "id": "rCndYH17Xz6a"
      },
      "source": [
        "# ***Bert for answering Queries***"
      ]
    },
    {
      "cell_type": "code",
      "metadata": {
        "id": "KPybn4FnXebd"
      },
      "source": [
        "!pip install transformers\n",
        "from transformers import BertForQuestionAnswering, AutoTokenizer\n",
        "modelname = 'deepset/bert-base-cased-squad2'\n",
        "model = BertForQuestionAnswering.from_pretrained(modelname)\n",
        "tokenizer = AutoTokenizer.from_pretrained(modelname)\n",
        "from transformers import pipeline\n",
        "nlp = pipeline('question-answering', model=model, tokenizer=tokenizer)"
      ],
      "execution_count": null,
      "outputs": []
    },
    {
      "cell_type": "code",
      "metadata": {
        "id": "n0mhORK8XsuF"
      },
      "source": [
        "location_answer = []\n",
        "for tweet in tweetsList:\n",
        "  context = tweet\n",
        "\n",
        "  sol = nlp({\n",
        "      'question': \"In which city are the beds needed?\",\n",
        "      'context': context\n",
        "  })\n",
        "  location_answer.append(sol['answer'])\n",
        "  \n",
        "print(location_answer)\n",
        "\n",
        "bed_answer = []\n",
        "for tweet in tweetsList:\n",
        "  context = tweet\n",
        "\n",
        "  sol = nlp({\n",
        "      'question': 'Which type of bed?',\n",
        "      'context': context\n",
        "  })\n",
        "  bed_answer.append(sol['answer'])\n",
        "  \n",
        "print(bed_answer)"
      ],
      "execution_count": null,
      "outputs": []
    },
    {
      "cell_type": "code",
      "metadata": {
        "id": "rMboGXm7pMUM"
      },
      "source": [
        "info = []"
      ],
      "execution_count": null,
      "outputs": []
    },
    {
      "cell_type": "markdown",
      "metadata": {
        "id": "UlVqyYe7Ooef"
      },
      "source": [
        "# ***Finding Beds from the dataframe***"
      ]
    },
    {
      "cell_type": "code",
      "metadata": {
        "id": "lvdzF1FuOrae"
      },
      "source": [
        "import random"
      ],
      "execution_count": null,
      "outputs": []
    },
    {
      "cell_type": "code",
      "metadata": {
        "id": "fn9LSs1nqe8H"
      },
      "source": [
        "without_oxygen = \"available_beds_without_oxygen\"\n",
        "with_oxygen = \"available_beds_with_oxygen\"\n",
        "icu_no_ventilator = \"available_icu_beds_without_ventilator\"\n",
        "icu_ventilator = \"available_icu_beds_with_ventilator\"\n",
        "#Bed types\n",
        "\n",
        "city = 'Delhi'"
      ],
      "execution_count": null,
      "outputs": []
    },
    {
      "cell_type": "code",
      "metadata": {
        "id": "fj_xfdKCrUag"
      },
      "source": [
        "#Function for finding beds from the beds dataframe\n",
        "def findBed(city, bed):                                           #choosing a random hospital from 10 hospitals for every tweet\n",
        "  hospital_data = df.loc[(df[bed] == True) & (df['area'] == city)].iloc[random.randint(0,10)].to_dict()\n",
        "  string = 'Beds are available in '+hospital_data['hospital_name']+'. \\n\\nContact Information: '+hospital_data['hospital_phone']+\". \\n\\nAddress: \"+hospital_data['hospital_address']\n",
        "  return string\n"
      ],
      "execution_count": null,
      "outputs": []
    },
    {
      "cell_type": "code",
      "metadata": {
        "colab": {
          "base_uri": "https://localhost:8080/"
        },
        "id": "lnnliFxN5hJ9",
        "outputId": "50e734d8-2b7e-44a4-84c0-03615a5fb8c2"
      },
      "source": [
        "#Preparing reply tweets for the retrieved tweets\n",
        "for i in range (0, len(answer)):\n",
        "  if(answer[i] == \"delhi\" or answer[i] == \"Delhi\" or answer[i] == \"DELHI\" or answer[i] == \"New Delhi\" or \n",
        "     answer[i] == \"new delhi\" or answer[i] == \"NEW DELHI\" or answer[i] == \"NEWDELHI\" or answer[i] == \"New delhi\"):\n",
        "                        #DELHI AND ICU WITHOUT VENTILATOR\n",
        "         reply_tweet = findBed(city, icu_no_ventilator)\n",
        "         print(reply_tweet) #Reply tweet string\n",
        "         print(\"------------------------------------------------------------------------------------------------------------\")\n"
      ],
      "execution_count": null,
      "outputs": [
        {
          "output_type": "stream",
          "text": [
            "Beds are available in Mata Roop Rani Maggo Hospital, Uttam Nagar. \n",
            "\n",
            "Contact Information: 01161290000,9555059059. \n",
            "\n",
            "Address: C-9, Om vihar, Phase 1, Uttam Nagar, metro Pillar No-709, Phase 1A, Om Vihar, Uttam Nagar, Delhi, 110059, India\n",
            "------------------------------------------------------------------------------------------------------------\n",
            "Beds are available in Khandelwal Hospital And Urology Center. \n",
            "\n",
            "Contact Information: 9212745664,01142408561,01142408591. \n",
            "\n",
            "Address: B-16, Main Road, East Krishna Nagar, East Krishna Nagar, Block B, East Krishna Nagar, Krishna Nagar, New Delhi, Delhi 110051, India\n",
            "------------------------------------------------------------------------------------------------------------\n",
            "Beds are available in Kalra Hospital, Kirti Nagar. \n",
            "\n",
            "Contact Information: 01125100000,01145005600,01145005700. \n",
            "\n",
            "Address: Tulsi Dass Kalra Marg, Block A, Indira Colony, Kirti Nagar, New Delhi, Delhi 110015, India\n",
            "------------------------------------------------------------------------------------------------------------\n",
            "Beds are available in Kalra Hospital, Kirti Nagar. \n",
            "\n",
            "Contact Information: 01125100000,01145005600,01145005700. \n",
            "\n",
            "Address: Tulsi Dass Kalra Marg, Block A, Indira Colony, Kirti Nagar, New Delhi, Delhi 110015, India\n",
            "------------------------------------------------------------------------------------------------------------\n",
            "Beds are available in Garg Hospital, Karkardooma. \n",
            "\n",
            "Contact Information: 01143274444,01145152556. \n",
            "\n",
            "Address: No. 8& 9, opposite Karkardooma Court, A G C R Enclave, Sector 17, New Delhi, Haryana 110092, India\n",
            "------------------------------------------------------------------------------------------------------------\n",
            "Beds are available in Mata Roop Rani Maggo Hospital, Uttam Nagar. \n",
            "\n",
            "Contact Information: 01161290000,9555059059. \n",
            "\n",
            "Address: C-9, Om vihar, Phase 1, Uttam Nagar, metro Pillar No-709, Phase 1A, Om Vihar, Uttam Nagar, Delhi, 110059, India\n",
            "------------------------------------------------------------------------------------------------------------\n",
            "Beds are available in Dharamvir Solanki Hospital, Rohini. \n",
            "\n",
            "Contact Information: 9311483147,9811188128. \n",
            "\n",
            "Address: 100 Feet Rd, opp. Sector 22, Lakhi Ram Park, Sector 22, Rohini, Delhi, 110086, India\n",
            "------------------------------------------------------------------------------------------------------------\n",
            "Beds are available in Garg Hospital, Karkardooma. \n",
            "\n",
            "Contact Information: 01143274444,01145152556. \n",
            "\n",
            "Address: No. 8& 9, opposite Karkardooma Court, A G C R Enclave, Sector 17, New Delhi, Haryana 110092, India\n",
            "------------------------------------------------------------------------------------------------------------\n",
            "Beds are available in Dharamvir Solanki Hospital, Rohini. \n",
            "\n",
            "Contact Information: 9311483147,9811188128. \n",
            "\n",
            "Address: 100 Feet Rd, opp. Sector 22, Lakhi Ram Park, Sector 22, Rohini, Delhi, 110086, India\n",
            "------------------------------------------------------------------------------------------------------------\n",
            "Beds are available in MAX SS HOSPITAL, PATPARGANJ. \n",
            "\n",
            "Contact Information: 8800333777. \n",
            "\n",
            "Address: 108A, I.P.Extension, Patparganj, Delhi, 110092, India\n",
            "------------------------------------------------------------------------------------------------------------\n"
          ],
          "name": "stdout"
        }
      ]
    },
    {
      "cell_type": "code",
      "metadata": {
        "id": "qfp6yQzn4hIF"
      },
      "source": [
        ""
      ],
      "execution_count": null,
      "outputs": []
    }
  ]
}