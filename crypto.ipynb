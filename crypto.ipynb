{
 "metadata": {
  "name": "",
  "signature": "sha256:0e42888e22bc3830084ab89c11589daa5ac5b9061c7b26ba1ea15316765a58ca"
 },
 "nbformat": 3,
 "nbformat_minor": 0,
 "worksheets": [
  {
   "cells": [
    {
     "cell_type": "heading",
     "level": 1,
     "metadata": {},
     "source": [
      "Cryptography Notebook"
     ]
    },
    {
     "cell_type": "markdown",
     "metadata": {},
     "source": [
      "Some interesting topics related to cryptography:\n",
      "\n",
      "- \"One-way functions\", ie. easily computable functions where the inverse exists but is very difficult to compute.\n",
      "    - Multiplying two big primes is simple, but factorization of the product is untractable (used in RSA algorithm).\n",
      "    - Exponentiation can be computed fast, but discrete logarithm is untractable (used in Diffie-Hellman, see below).\n",
      "- \"Perfect secrecy\", ie. an unbreakable cipher. This is [the Vernam cipher](http://en.wikipedia.org/wiki/One-time_pad). See also the XOR function.\n",
      "- Prime numbers, modular arithmetics, [the Chinese Remainder Theorem](http://en.wikipedia.org/wiki/Chinese_remainder_theorem), multiplicative groups, etc."
     ]
    },
    {
     "cell_type": "heading",
     "level": 2,
     "metadata": {},
     "source": [
      "Caesar Cipher"
     ]
    },
    {
     "cell_type": "markdown",
     "metadata": {},
     "source": [
      "<http://en.wikipedia.org/wiki/Caesar_cipher>\n",
      "\n",
      "Define `A` = 0, `B` = 1, ..., `Z` = 25.\n",
      "\n",
      "Caesar cipher with key $k$ is the letter-wise subsitution $CaesarEncrypt_k(letter) = letter + k \\pmod{26}$, ie. circular shift by $k$ letters.\n",
      "\n",
      "This function is easily inverted: $CaesarDecrypt_k(letter) = letter - k \\pmod{26}$\n",
      "\n",
      "__Task:__ Decrypt the following message: `YBBFR YVCF FVAX FUVCF`"
     ]
    },
    {
     "cell_type": "code",
     "collapsed": false,
     "input": [
      "ALPHABET = \"ABCDEFGHIJKLMNOPQRSTUVWXYZ\"\n",
      "\n",
      "def caesar_encrypt_one(letter, k):\n",
      "    if letter.isupper():\n",
      "        i = ord(letter) - ord(\"A\")\n",
      "        return ALPHABET[(i + k) % 26]\n",
      "    else:\n",
      "        return letter # digits, spaces etc. are not modified\n",
      "\n",
      "def caesar_encrypt(text, k):\n",
      "    return \"\".join(caesar_encrypt_one(letter, k) for letter in text)\n",
      "\n",
      "def caesar_decrypt(text, k):\n",
      "    return caesar_encrypt(text, 26-k)\n",
      "\n",
      "MESSAGE = \"YBBFR YVCF FVAX FUVCF\"\n",
      "\n",
      "caesar_decrypt(\"ABCD\", -3) # Julius Caesar used mapping D -> A (ie. k = -3, which is the same as k = 26-3 = 23)"
     ],
     "language": "python",
     "metadata": {},
     "outputs": [
      {
       "metadata": {},
       "output_type": "pyout",
       "prompt_number": 1,
       "text": [
        "'DEFG'"
       ]
      }
     ],
     "prompt_number": 1
    },
    {
     "cell_type": "heading",
     "level": 2,
     "metadata": {},
     "source": [
      "Affine Cipher"
     ]
    },
    {
     "cell_type": "markdown",
     "metadata": {},
     "source": [
      "<http://en.wikipedia.org/wiki/Affine_cipher>\n",
      "\n",
      "Let $a,b$ be two integers, $\\gcd(a,26)=1$ (this ensures there is unique $a^{-1}$ such that $a\\cdot a^{-1} \\equiv 1 \\pmod{26}$).\n",
      "\n",
      "$AffineEncrypt_{a,b}(letter) = a\\cdot letter + b \\pmod{26}$\n",
      "\n",
      "$AffineDecrypt_{a,b}(letter) = a^{-1}\\cdot (letter - b) \\pmod{26}$\n",
      "\n",
      "Caesar cipher is a special case of affine cipher with $a=1$.\n",
      "\n",
      "__Tasks:__\n",
      "\n",
      "- Implement encryption and decryption in Python (use brute force to compute $a^{-1}$).\n",
      "- Caesar cipher has only a handful of possible keys ($k=1,\\ldots,25$). How many keys are possible with affine cipher?\n",
      "- Think about how to break affine cipher without resorting to brute force. (Hint: knowing the preimage of one letter is enough to break the caesar cipher.)"
     ]
    },
    {
     "cell_type": "code",
     "collapsed": false,
     "input": [
      "def affine_encrypt_one(letter, a, b):\n",
      "    if letter.isupper():\n",
      "        i = ord(letter) - ord(\"A\")\n",
      "        return ALPHABET[(a*i + b) % 26]\n",
      "    else:\n",
      "        return letter # digits, spaces etc. are not modified\n",
      "\n",
      "def affine_encrypt(text, a, b):\n",
      "    return \"\".join(affine_encrypt_one(letter, a, b) for letter in text)\n",
      "\n",
      "def affine_decrypt(text, a, b):\n",
      "    pass # TODO\n",
      "\n",
      "affine_encrypt(\"ABCD\", 5, 12) # note that input letters are consecutive, but output ones are not (unlike caesar cipher)"
     ],
     "language": "python",
     "metadata": {},
     "outputs": [
      {
       "metadata": {},
       "output_type": "pyout",
       "prompt_number": 2,
       "text": [
        "'MRWB'"
       ]
      }
     ],
     "prompt_number": 2
    },
    {
     "cell_type": "heading",
     "level": 2,
     "metadata": {},
     "source": [
      "Hash Collisions"
     ]
    },
    {
     "cell_type": "markdown",
     "metadata": {},
     "source": [
      "<http://en.wikipedia.org/wiki/MD5>\n",
      "\n",
      "<https://docs.python.org/3.4/library/hashlib.html>\n",
      "\n",
      "__Task:__ From a database dump, you have learned that MD5 digest of a user's password is `65d2ea03425887a717c435081cfc5dbb`. Find a password with this digest. You can assume that the password is at most six characters long, and consists only of digits 0-9."
     ]
    },
    {
     "cell_type": "code",
     "collapsed": false,
     "input": [
      "import hashlib\n",
      "\n",
      "DIGEST = \"65d2ea03425887a717c435081cfc5dbb\""
     ],
     "language": "python",
     "metadata": {},
     "outputs": [],
     "prompt_number": 3
    },
    {
     "cell_type": "heading",
     "level": 2,
     "metadata": {},
     "source": [
      "Big primes"
     ]
    },
    {
     "cell_type": "markdown",
     "metadata": {},
     "source": [
      "<http://en.wikipedia.org/wiki/Fermat_primality_test>\n",
      "\n",
      "Big prime numbers (~hundreds of decimal digits) are useful in many cryptographical applications (see Diffie-Hellman below). Primality/compositeness checking, prime factorization, etc. are all computationally hard problems.\n",
      "\n",
      "Thus, in practice, \"probable primes\" are used instead. Making up \"probable primes\" is simple:\n",
      "\n",
      "1. Generate random number of desired magnitude (# of digits).\n",
      "2. Deterministically test against a list of small primes.\n",
      "3. Test probabilistically until desired level of confidence is reached.\n",
      "\n",
      "When any test fails, just start over with another random number.\n",
      "\n",
      "One probabilistical test is based on the theorem that $a^{p-1} \\equiv 1 \\pmod p$ for any integer $a$ and prime $p$ (Fermat's little theorem).\n",
      "\n",
      "__Tasks:__\n",
      "\n",
      "- Make a list of all primes less than 10 000.\n",
      "- Write a program to generate a \"probable prime\" using the list and Fermat primality test with given number of trials."
     ]
    },
    {
     "cell_type": "code",
     "collapsed": false,
     "input": [
      "import random\n",
      "\n",
      "def is_prime(n):\n",
      "    return True # TODO\n",
      "\n",
      "SMALL_PRIMES = [n for n in range(2, 10000) if is_prime(n)]\n",
      "\n",
      "def make_probable_prime(low, high, trials):\n",
      "    while True:\n",
      "        n = random.randint(low, high)\n",
      "        composite = False\n",
      "        \n",
      "        for p in SMALL_PRIMES:\n",
      "            ... # TODO\n",
      "        \n",
      "        for _ in range(trials):\n",
      "            ... # TODO\n",
      "        \n",
      "        if not composite:\n",
      "            return n\n",
      "\n",
      "make_probable_prime(10**6, 10**7, trials=5)"
     ],
     "language": "python",
     "metadata": {},
     "outputs": [
      {
       "metadata": {},
       "output_type": "pyout",
       "prompt_number": 4,
       "text": [
        "6241720"
       ]
      }
     ],
     "prompt_number": 4
    },
    {
     "cell_type": "heading",
     "level": 2,
     "metadata": {},
     "source": [
      "Diffie-Hellman key exchange"
     ]
    },
    {
     "cell_type": "markdown",
     "metadata": {},
     "source": [
      "<http://en.wikipedia.org/wiki/Diffie%E2%80%93Hellman_key_exchange>\n",
      "\n",
      "The Diffie-Hellman algorithm establishes shared secret between two (or more) parties using unsafe communication channels.\n",
      "\n",
      "Parameters (public):\n",
      "\n",
      "- $p$ ... prime number (preferrably big)\n",
      "- $g$ ... any integer $2 \\le g < p$\n",
      "\n",
      "Initial secrets (private):\n",
      "\n",
      "- $a$ ... Alice's secret, $2 \\le a < p$\n",
      "- $b$ ... Bob's secret, $2 \\le b < p$\n",
      "\n",
      "Exchanged keys (public):\n",
      "\n",
      "- $A = g^a\\mod p$ ... Alice's public key sent to Bob\n",
      "- $B = g^b\\mod p$ ... Bob's public key sent to Alice\n",
      "\n",
      "Established common secret (private):\n",
      "\n",
      "- $s = B^a \\mod p = (g^b)^a \\mod p$ ... common secret on Alice's side\n",
      "- $s = A^b \\mod p = (g^a)^b \\mod p$ ... common secret on Bob's side\n",
      "\n",
      "__Tasks:__\n",
      "\n",
      "- Demonstrate key exchange with $p=29,g=2,a=7,b=15$.\n",
      "- Use discrete logarithm to derive shared secret $s$ from publicly known values $p, g, A, B$. (Note: There is no known efficient algorithm for discrete logarithm.)"
     ]
    },
    {
     "cell_type": "code",
     "collapsed": false,
     "input": [
      "p = 29\n",
      "g = 2\n",
      "\n",
      "a = 7\n",
      "b = 15\n",
      "\n",
      "A = pow(g, a, p)\n",
      "B = pow(g, b, p)\n",
      "\n",
      "s = pow(B, a, p)\n",
      "assert pow(B, a, p) == pow(A, b, p)\n",
      "s"
     ],
     "language": "python",
     "metadata": {},
     "outputs": [
      {
       "metadata": {},
       "output_type": "pyout",
       "prompt_number": 5,
       "text": [
        "17"
       ]
      }
     ],
     "prompt_number": 5
    },
    {
     "cell_type": "code",
     "collapsed": false,
     "input": [
      "def discrete_logarithm(base, value, modulo):\n",
      "    \"\"\"return k such that base**k % modulo == value\"\"\"\n",
      "    for k in range(1, modulo):\n",
      "        if pow(base, k, modulo) == value:\n",
      "            return k\n",
      "\n",
      "attacker_a = discrete_logarithm(g, A, p)\n",
      "attacker_s = pow(B, attacker_a, p)\n",
      "attacker_s"
     ],
     "language": "python",
     "metadata": {},
     "outputs": [
      {
       "metadata": {},
       "output_type": "pyout",
       "prompt_number": 6,
       "text": [
        "17"
       ]
      }
     ],
     "prompt_number": 6
    }
   ],
   "metadata": {}
  }
 ]
}