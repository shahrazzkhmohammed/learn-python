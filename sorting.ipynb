{
 "cells": [
  {
   "cell_type": "markdown",
   "metadata": {},
   "source": [
    "# Řazení"
   ]
  },
  {
   "cell_type": "code",
   "execution_count": 2,
   "metadata": {
    "collapsed": false
   },
   "outputs": [
    {
     "data": {
      "text/html": [
       "<iframe width=\"560\" height=\"315\" src=\"https://www.youtube.com/embed/kPRA0W1kECg\" frameborder=\"0\" allowfullscreen></iframe>"
      ],
      "text/plain": [
       "<IPython.core.display.HTML object>"
      ]
     },
     "metadata": {},
     "output_type": "display_data"
    }
   ],
   "source": [
    "%%html\n",
    "<iframe width=\"560\" height=\"315\" src=\"https://www.youtube.com/embed/kPRA0W1kECg\" frameborder=\"0\" allowfullscreen></iframe>"
   ]
  },
  {
   "cell_type": "markdown",
   "metadata": {},
   "source": [
    "https://en.wikipedia.org/wiki/Sorting_algorithm\n",
    "\n",
    "Vstup: seznam $n$ čísel  \n",
    "Výstup: seznam $n$ čísel tak, že pro všechna sousední $a,b$ platí $a\\le b$\n",
    "\n",
    "Asi je třeba alespoň $n$ kroků (i kdyby byl seřazený vstup, tak na kontrolu).\n",
    "\n",
    "- Jednoduché algoritmy mohou trvat řádově $n^2$ kroků (BubbleSort, SelectSort)\n",
    "- Lepší algoritmy mají $n \\log n$ kroků v každém případě (MergeSort)\n",
    "- Ve speciálních případech lze dosáhnout i něčeho jako $n$ kroků (RadixSort)\n",
    "\n",
    "Teoretický výsledek: pokud řazení funguje pomocí porovnání a prohození dvou prvků (běžné sorty), nejhorší případ má alespoň $\\log n! \\approx n \\log n$ kroků.\n",
    "\n",
    "Stabilita: prvky $a,b$, pokud $a=b$, jsou po seřazení ve stejné vzájemné pozici (např. stejné karty různé barvy, barvy se neprohodí)"
   ]
  },
  {
   "cell_type": "markdown",
   "metadata": {},
   "source": [
    "## Mergesort\n",
    "\n",
    "- Rozděl seznam na poloviny, ty seřaď a dvě seřazené části spoj dohromady.\n",
    "    - Jak seřadit poloviny? Stejným způsobem! (rekurze, volání téže funkce)\n",
    "    - Nakonec se dostaneme na seznamy s jedním prvkem (případně prázdné), a ty už jsou seřazené triviálně.\n",
    "    - Při následném spojování ber vždy menší prvek ze začátku obou seznamů.\n",
    "- $n \\log n$ kroků v každém případě, ale vyžaduje pomocný seznam délky $n$\n",
    "- Řazení v Pythonu, Javě je kombinace mergesortu a insertsortu (pro malá data)"
   ]
  },
  {
   "cell_type": "code",
   "execution_count": 32,
   "metadata": {
    "collapsed": false
   },
   "outputs": [
    {
     "name": "stdout",
     "output_type": "stream",
     "text": [
      "merge_sort [1, -5, 2, 0, 5, 4]\n",
      "merge_sort [1, -5, 2]\n",
      "merge_sort [1]\n",
      "merge_sort [-5, 2]\n",
      "merge_sort [-5]\n",
      "merge_sort [2]\n",
      "merging [-5] and [2] into [-5, 2]\n",
      "merging [1] and [-5, 2] into [-5, 1, 2]\n",
      "merge_sort [0, 5, 4]\n",
      "merge_sort [0]\n",
      "merge_sort [5, 4]\n",
      "merge_sort [5]\n",
      "merge_sort [4]\n",
      "merging [5] and [4] into [4, 5]\n",
      "merging [0] and [4, 5] into [0, 4, 5]\n",
      "merging [-5, 1, 2] and [0, 4, 5] into [-5, 0, 1, 2, 4, 5]\n"
     ]
    },
    {
     "data": {
      "text/plain": [
       "[-5, 0, 1, 2, 4, 5]"
      ]
     },
     "execution_count": 32,
     "metadata": {},
     "output_type": "execute_result"
    }
   ],
   "source": [
    "def merge_sort(data):\n",
    "    print(\"merge_sort\", data)\n",
    "    n = len(data)\n",
    "    \n",
    "    if n <= 1:\n",
    "        return data\n",
    "    else:\n",
    "        left, right = data[:n//2], data[n//2:]\n",
    "        sorted_left = merge_sort(left)\n",
    "        sorted_right = merge_sort(right)\n",
    "        return merge(sorted_left, sorted_right)\n",
    "\n",
    "def merge(left, right):\n",
    "    print(\"merging\", left, \"and\", right, end=\" \")\n",
    "    output = []\n",
    "    \n",
    "    while left and right:\n",
    "        if left[0] <= right[0]:\n",
    "            output.append(left.pop(0))\n",
    "        else:\n",
    "            output.append(right.pop(0))\n",
    "    \n",
    "    output += left\n",
    "    output += right\n",
    "    \n",
    "    print(\"into\", output)\n",
    "    return output\n",
    "\n",
    "\n",
    "merge_sort([1,-5,2,0,5,4])"
   ]
  },
  {
   "cell_type": "markdown",
   "metadata": {},
   "source": [
    "## Quicksort\n",
    "\n",
    "- Vyber jeden prvek (pivot), rozděl seznam na dvě části podle velikosti vůči pivotu.\n",
    "    - Pivot se dostane na správné místo, stejným způsobem seřaď dvě části.\n",
    "- Ideální případ: jako pivot vybereme medián, seznam se rozdělí na dvě stejně velké části $\\to n\\log n$ kroků\n",
    "- Nejhorší případ: jako pivot vybereme minimum/maximum, bude to probíhat podobně jako Insertion Sort $\\to n^2$ kroků\n",
    "\n",
    "Jak vybrat pivot, aby se seznam rozpadl na dvě rozumně velké části?\n",
    "\n",
    "- Vždycky první prvek v seznamu ... seřazený vstup vede na nejhorší případ, to není vhodné\n",
    "- Vždycky prvek v seznamu uprostřed ... ideální pro seřazený vstup, ale obecně to není o nic lepší než první prvek\n",
    "- \"Náhodně\" ... pravděpodobnost, že se trefíme do minima/maxima/mediánu je nepatrná\n",
    "    - I \"průměrně dobrý\" pivot, když rozdělí seznam na 1/10 a 9/10 prvků, je pořád rychlý\n",
    "    - V praxi: náhodně vybrat několik (5, 7) prvků a z nich vzít medián ... poměrně robustní, rozumný odhad"
   ]
  }
 ],
 "metadata": {
  "kernelspec": {
   "display_name": "Python 3",
   "language": "python",
   "name": "python3"
  },
  "language_info": {
   "codemirror_mode": {
    "name": "ipython",
    "version": 3
   },
   "file_extension": ".py",
   "mimetype": "text/x-python",
   "name": "python",
   "nbconvert_exporter": "python",
   "pygments_lexer": "ipython3",
   "version": "3.4.2"
  }
 },
 "nbformat": 4,
 "nbformat_minor": 0
}
